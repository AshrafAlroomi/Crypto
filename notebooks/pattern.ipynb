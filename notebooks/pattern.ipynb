{
 "cells": [
  {
   "cell_type": "code",
   "execution_count": 2,
   "id": "cdff24fb-7706-4a47-9e46-f7b821f9557d",
   "metadata": {},
   "outputs": [],
   "source": [
    "import pandas as pd\n",
    "import talib\n",
    "import datetime"
   ]
  },
  {
   "cell_type": "markdown",
   "id": "252ad507-7ae3-4fe6-802f-d794392bc397",
   "metadata": {
    "tags": []
   },
   "source": [
    "## Read data"
   ]
  },
  {
   "cell_type": "code",
   "execution_count": 3,
   "id": "64a9dabb-df4b-476d-8f0c-5888ab66f736",
   "metadata": {},
   "outputs": [],
   "source": [
    "def get_coin_path(coin, usd='USDT', time='1h'):\n",
    "    if time == 'Daily':\n",
    "        time = 'd'\n",
    "    elif time == 'Minute':\n",
    "        time = 'minute'\n",
    "    else:\n",
    "        time = '1h'\n",
    "    return f\"../data/dfs/Binance_{coin}{usd}_{time}.csv\"\n",
    "\n",
    "def read_binance_data(coin):\n",
    "    def to_date(date):\n",
    "        try:\n",
    "            return datetime.datetime.strptime(date, '%Y-%m-%d %I-%p')\n",
    "        except:\n",
    "            return datetime.datetime.strptime(date, '%Y-%m-%d %H:%M:%S')\n",
    "\n",
    "    path = get_coin_path(coin)\n",
    "    df = pd.read_csv(path, skiprows=1).iloc[::-1]\n",
    "    df.reset_index(inplace=True, drop=True)\n",
    "    df['date'] = df['date'].apply(lambda x: to_date(x))\n",
    "    return df"
   ]
  },
  {
   "cell_type": "code",
   "execution_count": 4,
   "id": "36e76f4b-7664-4cb1-8ea0-52e325a8bd9c",
   "metadata": {},
   "outputs": [],
   "source": [
    "df = read_binance_data(\"ETH\")"
   ]
  },
  {
   "cell_type": "markdown",
   "id": "c10b8000-6b05-45a1-8148-1a1c5c004d2a",
   "metadata": {},
   "source": [
    "## talib Pattrens"
   ]
  },
  {
   "cell_type": "code",
   "execution_count": 5,
   "id": "9cda5c22-cecd-4bc8-b681-0acb7cd2113b",
   "metadata": {},
   "outputs": [],
   "source": [
    "patt = \"\"\"CDL2CROWS            Two Crows\n",
    "CDL3BLACKCROWS       Three Black Crows\n",
    "CDL3INSIDE           Three Inside Up/Down\n",
    "CDL3LINESTRIKE       Three-Line Strike\n",
    "CDL3OUTSIDE          Three Outside Up/Down\n",
    "CDL3STARSINSOUTH     Three Stars In The South\n",
    "CDL3WHITESOLDIERS    Three Advancing White Soldiers\n",
    "CDLABANDONEDBABY     Abandoned Baby\n",
    "CDLADVANCEBLOCK      Advance Block\n",
    "CDLBELTHOLD          Belt-hold\n",
    "CDLBREAKAWAY         Breakaway\n",
    "CDLCLOSINGMARUBOZU   Closing Marubozu\n",
    "CDLCONCEALBABYSWALL  Concealing Baby Swallow\n",
    "CDLCOUNTERATTACK     Counterattack\n",
    "CDLDARKCLOUDCOVER    Dark Cloud Cover\n",
    "CDLDOJI              Doji\n",
    "CDLDOJISTAR          Doji Star\n",
    "CDLDRAGONFLYDOJI     Dragonfly Doji\n",
    "CDLENGULFING         Engulfing Pattern\n",
    "CDLEVENINGDOJISTAR   Evening Doji Star\n",
    "CDLEVENINGSTAR       Evening Star\n",
    "CDLGAPSIDESIDEWHITE  Up/Down-gap side-by-side white lines\n",
    "CDLGRAVESTONEDOJI    Gravestone Doji\n",
    "CDLHAMMER            Hammer\n",
    "CDLHANGINGMAN        Hanging Man\n",
    "CDLHARAMI            Harami Pattern\n",
    "CDLHARAMICROSS       Harami Cross Pattern\n",
    "CDLHIGHWAVE          High-Wave Candle\n",
    "CDLHIKKAKE           Hikkake Pattern\n",
    "CDLHIKKAKEMOD        Modified Hikkake Pattern\n",
    "CDLHOMINGPIGEON      Homing Pigeon\n",
    "CDLIDENTICAL3CROWS   Identical Three Crows\n",
    "CDLINNECK            In-Neck Pattern\n",
    "CDLINVERTEDHAMMER    Inverted Hammer\n",
    "CDLKICKING           Kicking\n",
    "CDLKICKINGBYLENGTH   Kicking - bull/bear determined by the longer marubozu\n",
    "CDLLADDERBOTTOM      Ladder Bottom\n",
    "CDLLONGLEGGEDDOJI    Long Legged Doji\n",
    "CDLLONGLINE          Long Line Candle\n",
    "CDLMARUBOZU          Marubozu\n",
    "CDLMATCHINGLOW       Matching Low\n",
    "CDLMATHOLD           Mat Hold\n",
    "CDLMORNINGDOJISTAR   Morning Doji Star\n",
    "CDLMORNINGSTAR       Morning Star\n",
    "CDLONNECK            On-Neck Pattern\n",
    "CDLPIERCING          Piercing Pattern\n",
    "CDLRICKSHAWMAN       Rickshaw Man\n",
    "CDLRISEFALL3METHODS  Rising/Falling Three Methods\n",
    "CDLSEPARATINGLINES   Separating Lines\n",
    "CDLSHOOTINGSTAR      Shooting Star\n",
    "CDLSHORTLINE         Short Line Candle\n",
    "CDLSPINNINGTOP       Spinning Top\n",
    "CDLSTALLEDPATTERN    Stalled Pattern\n",
    "CDLSTICKSANDWICH     Stick Sandwich\n",
    "CDLTAKURI            Takuri (Dragonfly Doji with very long lower shadow)\n",
    "CDLTASUKIGAP         Tasuki Gap\n",
    "CDLTHRUSTING         Thrusting Pattern\n",
    "CDLTRISTAR           Tristar Pattern\n",
    "CDLUNIQUE3RIVER      Unique 3 River\n",
    "CDLUPSIDEGAP2CROWS   Upside Gap Two Crows\n",
    "CDLXSIDEGAP3METHODS  Upside/Downside Gap Three Methods\"\"\"\n",
    "patt_list = [x.split(' ')[0] for x in patt.split('\\n')]"
   ]
  },
  {
   "cell_type": "code",
   "execution_count": 5,
   "id": "e955dcf6-952e-44f1-9cef-2e638fb1efd3",
   "metadata": {},
   "outputs": [
    {
     "data": {
      "text/plain": [
       "['CDL2CROWS', 'CDL3BLACKCROWS', 'CDL3INSIDE', 'CDL3LINESTRIKE', 'CDL3OUTSIDE']"
      ]
     },
     "execution_count": 5,
     "metadata": {},
     "output_type": "execute_result"
    }
   ],
   "source": [
    "patt_list[:5]"
   ]
  },
  {
   "cell_type": "code",
   "execution_count": null,
   "id": "5b1c630c-0d91-4a00-9223-9178fb1457d1",
   "metadata": {},
   "outputs": [],
   "source": [
    "#method(open, high, low, close)"
   ]
  },
  {
   "cell_type": "code",
   "execution_count": 7,
   "id": "03048021-fe90-4d48-ac77-3691acca6377",
   "metadata": {},
   "outputs": [],
   "source": [
    "cdl2 =talib.CDL3LINESTRIKE(df[\"open\"],df[\"high\"],df[\"low\"],df[\"close\"])"
   ]
  },
  {
   "cell_type": "code",
   "execution_count": 9,
   "id": "952ad340-7858-4d49-a8b7-6a2dbb31996f",
   "metadata": {},
   "outputs": [
    {
     "data": {
      "text/plain": [
       "4535     100\n",
       "6574     100\n",
       "31718    100\n",
       "31751    100\n",
       "32008    100\n",
       "32279    100\n",
       "33112    100\n",
       "33208    100\n",
       "33732    100\n",
       "34369    100\n",
       "34553    100\n",
       "35109    100\n",
       "35380    100\n",
       "35388    100\n",
       "35641    100\n",
       "36279    100\n",
       "37141    100\n",
       "37768    100\n",
       "38468    100\n",
       "38523    100\n",
       "38877    100\n",
       "39037    100\n",
       "39068    100\n",
       "dtype: int32"
      ]
     },
     "execution_count": 9,
     "metadata": {},
     "output_type": "execute_result"
    }
   ],
   "source": [
    "cdl2[cdl2 > 0]"
   ]
  },
  {
   "cell_type": "code",
   "execution_count": 6,
   "id": "8f52295e-11b5-4755-a2a7-4b70cfd77aad",
   "metadata": {},
   "outputs": [
    {
     "data": {
      "text/html": [
       "<div>\n",
       "<style scoped>\n",
       "    .dataframe tbody tr th:only-of-type {\n",
       "        vertical-align: middle;\n",
       "    }\n",
       "\n",
       "    .dataframe tbody tr th {\n",
       "        vertical-align: top;\n",
       "    }\n",
       "\n",
       "    .dataframe thead th {\n",
       "        text-align: right;\n",
       "    }\n",
       "</style>\n",
       "<table border=\"1\" class=\"dataframe\">\n",
       "  <thead>\n",
       "    <tr style=\"text-align: right;\">\n",
       "      <th></th>\n",
       "      <th>unix</th>\n",
       "      <th>date</th>\n",
       "      <th>symbol</th>\n",
       "      <th>open</th>\n",
       "      <th>high</th>\n",
       "      <th>low</th>\n",
       "      <th>close</th>\n",
       "      <th>Volume ETH</th>\n",
       "      <th>Volume USDT</th>\n",
       "      <th>tradecount</th>\n",
       "    </tr>\n",
       "  </thead>\n",
       "  <tbody>\n",
       "    <tr>\n",
       "      <th>0</th>\n",
       "      <td>1.502942e+09</td>\n",
       "      <td>2017-08-17 04:00:00</td>\n",
       "      <td>ETH/USDT</td>\n",
       "      <td>652.74</td>\n",
       "      <td>652.74</td>\n",
       "      <td>298.0</td>\n",
       "      <td>300.79</td>\n",
       "      <td>122.52</td>\n",
       "      <td>36736.84</td>\n",
       "      <td>NaN</td>\n",
       "    </tr>\n",
       "    <tr>\n",
       "      <th>1</th>\n",
       "      <td>1.502946e+09</td>\n",
       "      <td>2017-08-17 05:00:00</td>\n",
       "      <td>ETH/USDT</td>\n",
       "      <td>301.61</td>\n",
       "      <td>303.28</td>\n",
       "      <td>300.0</td>\n",
       "      <td>303.10</td>\n",
       "      <td>377.67</td>\n",
       "      <td>114043.28</td>\n",
       "      <td>NaN</td>\n",
       "    </tr>\n",
       "    <tr>\n",
       "      <th>2</th>\n",
       "      <td>1.502950e+09</td>\n",
       "      <td>2017-08-17 06:00:00</td>\n",
       "      <td>ETH/USDT</td>\n",
       "      <td>303.10</td>\n",
       "      <td>304.44</td>\n",
       "      <td>301.9</td>\n",
       "      <td>302.68</td>\n",
       "      <td>302.51</td>\n",
       "      <td>91622.68</td>\n",
       "      <td>NaN</td>\n",
       "    </tr>\n",
       "    <tr>\n",
       "      <th>3</th>\n",
       "      <td>1.502953e+09</td>\n",
       "      <td>2017-08-17 07:00:00</td>\n",
       "      <td>ETH/USDT</td>\n",
       "      <td>302.68</td>\n",
       "      <td>307.96</td>\n",
       "      <td>302.6</td>\n",
       "      <td>307.96</td>\n",
       "      <td>753.19</td>\n",
       "      <td>229248.31</td>\n",
       "      <td>NaN</td>\n",
       "    </tr>\n",
       "    <tr>\n",
       "      <th>4</th>\n",
       "      <td>1.502957e+09</td>\n",
       "      <td>2017-08-17 08:00:00</td>\n",
       "      <td>ETH/USDT</td>\n",
       "      <td>307.96</td>\n",
       "      <td>309.97</td>\n",
       "      <td>307.0</td>\n",
       "      <td>308.62</td>\n",
       "      <td>150.75</td>\n",
       "      <td>46559.46</td>\n",
       "      <td>NaN</td>\n",
       "    </tr>\n",
       "  </tbody>\n",
       "</table>\n",
       "</div>"
      ],
      "text/plain": [
       "           unix                date    symbol    open    high    low   close  \\\n",
       "0  1.502942e+09 2017-08-17 04:00:00  ETH/USDT  652.74  652.74  298.0  300.79   \n",
       "1  1.502946e+09 2017-08-17 05:00:00  ETH/USDT  301.61  303.28  300.0  303.10   \n",
       "2  1.502950e+09 2017-08-17 06:00:00  ETH/USDT  303.10  304.44  301.9  302.68   \n",
       "3  1.502953e+09 2017-08-17 07:00:00  ETH/USDT  302.68  307.96  302.6  307.96   \n",
       "4  1.502957e+09 2017-08-17 08:00:00  ETH/USDT  307.96  309.97  307.0  308.62   \n",
       "\n",
       "   Volume ETH  Volume USDT  tradecount  \n",
       "0      122.52     36736.84         NaN  \n",
       "1      377.67    114043.28         NaN  \n",
       "2      302.51     91622.68         NaN  \n",
       "3      753.19    229248.31         NaN  \n",
       "4      150.75     46559.46         NaN  "
      ]
     },
     "execution_count": 6,
     "metadata": {},
     "output_type": "execute_result"
    }
   ],
   "source": [
    "df.head()"
   ]
  },
  {
   "cell_type": "code",
   "execution_count": 7,
   "id": "4600e0ba-52c5-4453-b892-164fc3be9056",
   "metadata": {},
   "outputs": [],
   "source": [
    "import numpy as np"
   ]
  },
  {
   "cell_type": "markdown",
   "id": "63a6ffa3-36bb-4c3f-848a-72822f626518",
   "metadata": {},
   "source": [
    "### pattern ranking"
   ]
  },
  {
   "cell_type": "code",
   "execution_count": 6,
   "id": "099b3c52-8495-455d-bb89-5f74c796d686",
   "metadata": {},
   "outputs": [],
   "source": [
    "df = read_binance_data(\"ETH\")\n",
    "for pattern in patt_list:\n",
    "    func = eval(f\"talib.{pattern}\")\n",
    "    df[pattern] = func(df[\"open\"],df[\"high\"],df[\"low\"],df[\"close\"])"
   ]
  },
  {
   "cell_type": "code",
   "execution_count": 9,
   "id": "9b163da5-447f-40e8-a8f8-3b0963aecd79",
   "metadata": {},
   "outputs": [
    {
     "data": {
      "text/html": [
       "<div>\n",
       "<style scoped>\n",
       "    .dataframe tbody tr th:only-of-type {\n",
       "        vertical-align: middle;\n",
       "    }\n",
       "\n",
       "    .dataframe tbody tr th {\n",
       "        vertical-align: top;\n",
       "    }\n",
       "\n",
       "    .dataframe thead th {\n",
       "        text-align: right;\n",
       "    }\n",
       "</style>\n",
       "<table border=\"1\" class=\"dataframe\">\n",
       "  <thead>\n",
       "    <tr style=\"text-align: right;\">\n",
       "      <th></th>\n",
       "      <th>unix</th>\n",
       "      <th>date</th>\n",
       "      <th>symbol</th>\n",
       "      <th>open</th>\n",
       "      <th>high</th>\n",
       "      <th>low</th>\n",
       "      <th>close</th>\n",
       "      <th>Volume ETH</th>\n",
       "      <th>Volume USDT</th>\n",
       "      <th>tradecount</th>\n",
       "      <th>...</th>\n",
       "      <th>CDLSPINNINGTOP</th>\n",
       "      <th>CDLSTALLEDPATTERN</th>\n",
       "      <th>CDLSTICKSANDWICH</th>\n",
       "      <th>CDLTAKURI</th>\n",
       "      <th>CDLTASUKIGAP</th>\n",
       "      <th>CDLTHRUSTING</th>\n",
       "      <th>CDLTRISTAR</th>\n",
       "      <th>CDLUNIQUE3RIVER</th>\n",
       "      <th>CDLUPSIDEGAP2CROWS</th>\n",
       "      <th>CDLXSIDEGAP3METHODS</th>\n",
       "    </tr>\n",
       "  </thead>\n",
       "  <tbody>\n",
       "    <tr>\n",
       "      <th>0</th>\n",
       "      <td>1.502942e+09</td>\n",
       "      <td>2017-08-17 04:00:00</td>\n",
       "      <td>ETH/USDT</td>\n",
       "      <td>652.74</td>\n",
       "      <td>652.74</td>\n",
       "      <td>298.0</td>\n",
       "      <td>300.79</td>\n",
       "      <td>122.52</td>\n",
       "      <td>36736.84</td>\n",
       "      <td>NaN</td>\n",
       "      <td>...</td>\n",
       "      <td>0</td>\n",
       "      <td>0</td>\n",
       "      <td>0</td>\n",
       "      <td>0</td>\n",
       "      <td>0</td>\n",
       "      <td>0</td>\n",
       "      <td>0</td>\n",
       "      <td>0</td>\n",
       "      <td>0</td>\n",
       "      <td>0</td>\n",
       "    </tr>\n",
       "    <tr>\n",
       "      <th>1</th>\n",
       "      <td>1.502946e+09</td>\n",
       "      <td>2017-08-17 05:00:00</td>\n",
       "      <td>ETH/USDT</td>\n",
       "      <td>301.61</td>\n",
       "      <td>303.28</td>\n",
       "      <td>300.0</td>\n",
       "      <td>303.10</td>\n",
       "      <td>377.67</td>\n",
       "      <td>114043.28</td>\n",
       "      <td>NaN</td>\n",
       "      <td>...</td>\n",
       "      <td>0</td>\n",
       "      <td>0</td>\n",
       "      <td>0</td>\n",
       "      <td>0</td>\n",
       "      <td>0</td>\n",
       "      <td>0</td>\n",
       "      <td>0</td>\n",
       "      <td>0</td>\n",
       "      <td>0</td>\n",
       "      <td>0</td>\n",
       "    </tr>\n",
       "    <tr>\n",
       "      <th>2</th>\n",
       "      <td>1.502950e+09</td>\n",
       "      <td>2017-08-17 06:00:00</td>\n",
       "      <td>ETH/USDT</td>\n",
       "      <td>303.10</td>\n",
       "      <td>304.44</td>\n",
       "      <td>301.9</td>\n",
       "      <td>302.68</td>\n",
       "      <td>302.51</td>\n",
       "      <td>91622.68</td>\n",
       "      <td>NaN</td>\n",
       "      <td>...</td>\n",
       "      <td>0</td>\n",
       "      <td>0</td>\n",
       "      <td>0</td>\n",
       "      <td>0</td>\n",
       "      <td>0</td>\n",
       "      <td>0</td>\n",
       "      <td>0</td>\n",
       "      <td>0</td>\n",
       "      <td>0</td>\n",
       "      <td>0</td>\n",
       "    </tr>\n",
       "    <tr>\n",
       "      <th>3</th>\n",
       "      <td>1.502953e+09</td>\n",
       "      <td>2017-08-17 07:00:00</td>\n",
       "      <td>ETH/USDT</td>\n",
       "      <td>302.68</td>\n",
       "      <td>307.96</td>\n",
       "      <td>302.6</td>\n",
       "      <td>307.96</td>\n",
       "      <td>753.19</td>\n",
       "      <td>229248.31</td>\n",
       "      <td>NaN</td>\n",
       "      <td>...</td>\n",
       "      <td>0</td>\n",
       "      <td>0</td>\n",
       "      <td>0</td>\n",
       "      <td>0</td>\n",
       "      <td>0</td>\n",
       "      <td>0</td>\n",
       "      <td>0</td>\n",
       "      <td>0</td>\n",
       "      <td>0</td>\n",
       "      <td>0</td>\n",
       "    </tr>\n",
       "    <tr>\n",
       "      <th>4</th>\n",
       "      <td>1.502957e+09</td>\n",
       "      <td>2017-08-17 08:00:00</td>\n",
       "      <td>ETH/USDT</td>\n",
       "      <td>307.96</td>\n",
       "      <td>309.97</td>\n",
       "      <td>307.0</td>\n",
       "      <td>308.62</td>\n",
       "      <td>150.75</td>\n",
       "      <td>46559.46</td>\n",
       "      <td>NaN</td>\n",
       "      <td>...</td>\n",
       "      <td>0</td>\n",
       "      <td>0</td>\n",
       "      <td>0</td>\n",
       "      <td>0</td>\n",
       "      <td>0</td>\n",
       "      <td>0</td>\n",
       "      <td>0</td>\n",
       "      <td>0</td>\n",
       "      <td>0</td>\n",
       "      <td>0</td>\n",
       "    </tr>\n",
       "  </tbody>\n",
       "</table>\n",
       "<p>5 rows × 71 columns</p>\n",
       "</div>"
      ],
      "text/plain": [
       "           unix                date    symbol    open    high    low   close  \\\n",
       "0  1.502942e+09 2017-08-17 04:00:00  ETH/USDT  652.74  652.74  298.0  300.79   \n",
       "1  1.502946e+09 2017-08-17 05:00:00  ETH/USDT  301.61  303.28  300.0  303.10   \n",
       "2  1.502950e+09 2017-08-17 06:00:00  ETH/USDT  303.10  304.44  301.9  302.68   \n",
       "3  1.502953e+09 2017-08-17 07:00:00  ETH/USDT  302.68  307.96  302.6  307.96   \n",
       "4  1.502957e+09 2017-08-17 08:00:00  ETH/USDT  307.96  309.97  307.0  308.62   \n",
       "\n",
       "   Volume ETH  Volume USDT  tradecount  ...  CDLSPINNINGTOP  \\\n",
       "0      122.52     36736.84         NaN  ...               0   \n",
       "1      377.67    114043.28         NaN  ...               0   \n",
       "2      302.51     91622.68         NaN  ...               0   \n",
       "3      753.19    229248.31         NaN  ...               0   \n",
       "4      150.75     46559.46         NaN  ...               0   \n",
       "\n",
       "   CDLSTALLEDPATTERN  CDLSTICKSANDWICH  CDLTAKURI  CDLTASUKIGAP  CDLTHRUSTING  \\\n",
       "0                  0                 0          0             0             0   \n",
       "1                  0                 0          0             0             0   \n",
       "2                  0                 0          0             0             0   \n",
       "3                  0                 0          0             0             0   \n",
       "4                  0                 0          0             0             0   \n",
       "\n",
       "   CDLTRISTAR  CDLUNIQUE3RIVER  CDLUPSIDEGAP2CROWS  CDLXSIDEGAP3METHODS  \n",
       "0           0                0                   0                    0  \n",
       "1           0                0                   0                    0  \n",
       "2           0                0                   0                    0  \n",
       "3           0                0                   0                    0  \n",
       "4           0                0                   0                    0  \n",
       "\n",
       "[5 rows x 71 columns]"
      ]
     },
     "execution_count": 9,
     "metadata": {},
     "output_type": "execute_result"
    }
   ],
   "source": [
    "df.head()"
   ]
  },
  {
   "cell_type": "code",
   "execution_count": 14,
   "id": "9313a12e-02a5-43aa-80de-d5e77ab105e1",
   "metadata": {},
   "outputs": [
    {
     "data": {
      "text/plain": [
       "4768"
      ]
     },
     "execution_count": 14,
     "metadata": {},
     "output_type": "execute_result"
    }
   ],
   "source": [
    "len(df[df[\"CDLSPINNINGTOP\"] < 0])"
   ]
  },
  {
   "cell_type": "code",
   "execution_count": 10,
   "id": "9fe4e7fa-77b1-41b2-9690-04964162057a",
   "metadata": {},
   "outputs": [],
   "source": [
    "#t+ trend up\n",
    "#t- trend down\n",
    "#s sucess\n",
    "#f failure\n",
    "\n",
    "pattern_dict = {pattern:{\"t+\":0,\"t-\":0,\"s\":0,\"f\":0} for pattern in patt_list}"
   ]
  },
  {
   "cell_type": "code",
   "execution_count": 11,
   "id": "eba6955f-a07d-47e3-a36f-5cccbee1150d",
   "metadata": {},
   "outputs": [],
   "source": [
    "for p in patt_list:\n",
    "    pattern_dict[p][\"t+\"] = len(df[df[p]>0])\n",
    "    pattern_dict[p][\"t-\"] = len(df[df[p]<0])\n",
    "    "
   ]
  },
  {
   "cell_type": "code",
   "execution_count": 20,
   "id": "3aa695a4-ea5a-4f9f-b95f-16ac8f87076d",
   "metadata": {},
   "outputs": [
    {
     "data": {
      "text/plain": [
       "1    True\n",
       "2    True\n",
       "3    True\n",
       "Name: high, dtype: bool"
      ]
     },
     "execution_count": 20,
     "metadata": {},
     "output_type": "execute_result"
    }
   ],
   "source": []
  },
  {
   "cell_type": "code",
   "execution_count": 13,
   "id": "3ad81d26-3de2-4fa3-b6b0-41b8372be9cc",
   "metadata": {},
   "outputs": [
    {
     "name": "stdout",
     "output_type": "stream",
     "text": [
      "CDL2CROWS\n",
      "CDL3BLACKCROWS\n",
      "CDL3INSIDE\n",
      "CDL3LINESTRIKE\n",
      "CDL3OUTSIDE\n",
      "CDL3STARSINSOUTH\n",
      "CDL3WHITESOLDIERS\n",
      "CDLABANDONEDBABY\n",
      "CDLADVANCEBLOCK\n",
      "CDLBELTHOLD\n",
      "CDLBREAKAWAY\n",
      "CDLCLOSINGMARUBOZU\n",
      "CDLCONCEALBABYSWALL\n",
      "CDLCOUNTERATTACK\n",
      "CDLDARKCLOUDCOVER\n",
      "CDLDOJI\n",
      "CDLDOJISTAR\n",
      "CDLDRAGONFLYDOJI\n",
      "CDLENGULFING\n",
      "CDLEVENINGDOJISTAR\n",
      "CDLEVENINGSTAR\n",
      "CDLGAPSIDESIDEWHITE\n",
      "CDLGRAVESTONEDOJI\n",
      "CDLHAMMER\n",
      "CDLHANGINGMAN\n",
      "CDLHARAMI\n",
      "CDLHARAMICROSS\n",
      "CDLHIGHWAVE\n",
      "CDLHIKKAKE\n",
      "CDLHIKKAKEMOD\n",
      "CDLHOMINGPIGEON\n",
      "CDLIDENTICAL3CROWS\n",
      "CDLINNECK\n",
      "CDLINVERTEDHAMMER\n",
      "CDLKICKING\n",
      "CDLKICKINGBYLENGTH\n",
      "CDLLADDERBOTTOM\n",
      "CDLLONGLEGGEDDOJI\n",
      "CDLLONGLINE\n",
      "CDLMARUBOZU\n",
      "CDLMATCHINGLOW\n",
      "CDLMATHOLD\n",
      "CDLMORNINGDOJISTAR\n",
      "CDLMORNINGSTAR\n",
      "CDLONNECK\n"
     ]
    },
    {
     "ename": "KeyboardInterrupt",
     "evalue": "",
     "output_type": "error",
     "traceback": [
      "\u001b[0;31m---------------------------------------------------------------------------\u001b[0m",
      "\u001b[0;31mKeyboardInterrupt\u001b[0m                         Traceback (most recent call last)",
      "\u001b[0;32m/tmp/ipykernel_343030/4216507336.py\u001b[0m in \u001b[0;36m<module>\u001b[0;34m\u001b[0m\n\u001b[1;32m      5\u001b[0m     \u001b[0;32mfor\u001b[0m \u001b[0mi\u001b[0m \u001b[0;32min\u001b[0m \u001b[0mrange\u001b[0m\u001b[0;34m(\u001b[0m\u001b[0mlen\u001b[0m\u001b[0;34m(\u001b[0m\u001b[0mdf\u001b[0m\u001b[0;34m)\u001b[0m \u001b[0;34m-\u001b[0m \u001b[0mh\u001b[0m\u001b[0;34m)\u001b[0m\u001b[0;34m:\u001b[0m\u001b[0;34m\u001b[0m\u001b[0;34m\u001b[0m\u001b[0m\n\u001b[1;32m      6\u001b[0m         \u001b[0mdata\u001b[0m \u001b[0;34m=\u001b[0m \u001b[0mdf\u001b[0m\u001b[0;34m.\u001b[0m\u001b[0miloc\u001b[0m\u001b[0;34m[\u001b[0m\u001b[0mi\u001b[0m\u001b[0;34m]\u001b[0m\u001b[0;34m\u001b[0m\u001b[0;34m\u001b[0m\u001b[0m\n\u001b[0;32m----> 7\u001b[0;31m         \u001b[0;32mif\u001b[0m \u001b[0mdata\u001b[0m\u001b[0;34m[\u001b[0m\u001b[0mpattern\u001b[0m\u001b[0;34m]\u001b[0m \u001b[0;34m>\u001b[0m \u001b[0;36m0\u001b[0m\u001b[0;34m:\u001b[0m\u001b[0;34m\u001b[0m\u001b[0;34m\u001b[0m\u001b[0m\n\u001b[0m\u001b[1;32m      8\u001b[0m             \u001b[0;32mif\u001b[0m \u001b[0many\u001b[0m\u001b[0;34m(\u001b[0m\u001b[0mdf\u001b[0m\u001b[0;34m.\u001b[0m\u001b[0miloc\u001b[0m\u001b[0;34m[\u001b[0m\u001b[0mi\u001b[0m\u001b[0;34m+\u001b[0m\u001b[0;36m1\u001b[0m\u001b[0;34m:\u001b[0m\u001b[0mi\u001b[0m\u001b[0;34m+\u001b[0m\u001b[0mh\u001b[0m\u001b[0;34m]\u001b[0m\u001b[0;34m[\u001b[0m\u001b[0;34m\"high\"\u001b[0m\u001b[0;34m]\u001b[0m \u001b[0;34m>\u001b[0m \u001b[0mdata\u001b[0m\u001b[0;34m[\u001b[0m\u001b[0;34m\"close\"\u001b[0m\u001b[0;34m]\u001b[0m\u001b[0;34m)\u001b[0m\u001b[0;34m:\u001b[0m\u001b[0;34m\u001b[0m\u001b[0;34m\u001b[0m\u001b[0m\n\u001b[1;32m      9\u001b[0m                 \u001b[0mpattern_dict\u001b[0m\u001b[0;34m[\u001b[0m\u001b[0mpattern\u001b[0m\u001b[0;34m]\u001b[0m\u001b[0;34m[\u001b[0m\u001b[0;34m\"s\"\u001b[0m\u001b[0;34m]\u001b[0m \u001b[0;34m+=\u001b[0m\u001b[0;36m1\u001b[0m\u001b[0;34m\u001b[0m\u001b[0;34m\u001b[0m\u001b[0m\n",
      "\u001b[0;31mKeyboardInterrupt\u001b[0m: "
     ]
    }
   ],
   "source": [
    "# 7h | high rule\n",
    "h = 7\n",
    "for pattern in patt_list:\n",
    "    print(pattern)\n",
    "    for i in range(len(df) - h):\n",
    "        data = df.iloc[i]\n",
    "        if data[pattern] > 0:\n",
    "            if any(df.iloc[i+1:i+h][\"high\"] > data[\"close\"]):\n",
    "                pattern_dict[pattern][\"s\"] +=1\n",
    "            else:\n",
    "                pattern_dict[pattern][\"f\"] +=1\n",
    "        \n",
    "                \n",
    "        "
   ]
  },
  {
   "cell_type": "code",
   "execution_count": 22,
   "id": "00114a9e-f47c-408c-a3d7-c0e46f6c1b99",
   "metadata": {},
   "outputs": [
    {
     "data": {
      "text/plain": [
       "{'CDL2CROWS': {'t+': 0, 't-': 0, 's': 0, 'f': 0},\n",
       " 'CDL3BLACKCROWS': {'t+': 0, 't-': 1, 's': 0, 'f': 0},\n",
       " 'CDL3INSIDE': {'t+': 48, 't-': 34, 's': 47, 'f': 1},\n",
       " 'CDL3LINESTRIKE': {'t+': 23, 't-': 16, 's': 23, 'f': 0},\n",
       " 'CDL3OUTSIDE': {'t+': 188, 't-': 179, 's': 185, 'f': 2},\n",
       " 'CDL3STARSINSOUTH': {'t+': 0, 't-': 0, 's': 0, 'f': 0},\n",
       " 'CDL3WHITESOLDIERS': {'t+': 17, 't-': 0, 's': 17, 'f': 0},\n",
       " 'CDLABANDONEDBABY': {'t+': 0, 't-': 0, 's': 0, 'f': 0},\n",
       " 'CDLADVANCEBLOCK': {'t+': 0, 't-': 418, 's': 0, 'f': 0},\n",
       " 'CDLBELTHOLD': {'t+': 3200, 't-': 3031, 's': 3170, 'f': 30},\n",
       " 'CDLBREAKAWAY': {'t+': 0, 't-': 0, 's': 0, 'f': 0},\n",
       " 'CDLCLOSINGMARUBOZU': {'t+': 2266, 't-': 1710, 's': 2233, 'f': 32},\n",
       " 'CDLCONCEALBABYSWALL': {'t+': 0, 't-': 0, 's': 0, 'f': 0},\n",
       " 'CDLCOUNTERATTACK': {'t+': 0, 't-': 0, 's': 0, 'f': 0},\n",
       " 'CDLDARKCLOUDCOVER': {'t+': 0, 't-': 1, 's': 0, 'f': 0},\n",
       " 'CDLDOJI': {'t+': 6384, 't-': 0, 's': 6253, 'f': 131},\n",
       " 'CDLDOJISTAR': {'t+': 41, 't-': 50, 's': 41, 'f': 0},\n",
       " 'CDLDRAGONFLYDOJI': {'t+': 791, 't-': 0, 's': 778, 'f': 13},\n",
       " 'CDLENGULFING': {'t+': 364, 't-': 386, 's': 363, 'f': 0},\n",
       " 'CDLEVENINGDOJISTAR': {'t+': 0, 't-': 11, 's': 0, 'f': 0},\n",
       " 'CDLEVENINGSTAR': {'t+': 0, 't-': 42, 's': 0, 'f': 0},\n",
       " 'CDLGAPSIDESIDEWHITE': {'t+': 10, 't-': 0, 's': 10, 'f': 0},\n",
       " 'CDLGRAVESTONEDOJI': {'t+': 708, 't-': 0, 's': 703, 'f': 5},\n",
       " 'CDLHAMMER': {'t+': 987, 't-': 0, 's': 974, 'f': 13},\n",
       " 'CDLHANGINGMAN': {'t+': 0, 't-': 607, 's': 0, 'f': 0},\n",
       " 'CDLHARAMI': {'t+': 193, 't-': 190, 's': 191, 'f': 2},\n",
       " 'CDLHARAMICROSS': {'t+': 45, 't-': 54, 's': 43, 'f': 2},\n",
       " 'CDLHIGHWAVE': {'t+': 2863, 't-': 2769, 's': 2827, 'f': 36},\n",
       " 'CDLHIKKAKE': {'t+': 2807, 't-': 3070, 's': 2785, 'f': 22},\n",
       " 'CDLHIKKAKEMOD': {'t+': 49, 't-': 57, 's': 48, 'f': 1},\n",
       " 'CDLHOMINGPIGEON': {'t+': 2, 't-': 0, 's': 2, 'f': 0},\n",
       " 'CDLIDENTICAL3CROWS': {'t+': 0, 't-': 25, 's': 0, 'f': 0},\n",
       " 'CDLINNECK': {'t+': 0, 't-': 0, 's': 0, 'f': 0},\n",
       " 'CDLINVERTEDHAMMER': {'t+': 30, 't-': 0, 's': 30, 'f': 0},\n",
       " 'CDLKICKING': {'t+': 0, 't-': 0, 's': 0, 'f': 0},\n",
       " 'CDLKICKINGBYLENGTH': {'t+': 0, 't-': 0, 's': 0, 'f': 0},\n",
       " 'CDLLADDERBOTTOM': {'t+': 0, 't-': 0, 's': 0, 'f': 0},\n",
       " 'CDLLONGLEGGEDDOJI': {'t+': 6284, 't-': 0, 's': 6205, 'f': 79},\n",
       " 'CDLLONGLINE': {'t+': 3671, 't-': 3143, 's': 3633, 'f': 38},\n",
       " 'CDLMARUBOZU': {'t+': 796, 't-': 554, 's': 781, 'f': 15},\n",
       " 'CDLMATCHINGLOW': {'t+': 1975, 't-': 0, 's': 1953, 'f': 22},\n",
       " 'CDLMATHOLD': {'t+': 0, 't-': 0, 's': 0, 'f': 0},\n",
       " 'CDLMORNINGDOJISTAR': {'t+': 8, 't-': 0, 's': 8, 'f': 0},\n",
       " 'CDLMORNINGSTAR': {'t+': 29, 't-': 0, 's': 29, 'f': 0},\n",
       " 'CDLONNECK': {'t+': 0, 't-': 0, 's': 0, 'f': 0},\n",
       " 'CDLPIERCING': {'t+': 0, 't-': 0, 's': 0, 'f': 0},\n",
       " 'CDLRICKSHAWMAN': {'t+': 4669, 't-': 0, 's': 4610, 'f': 59},\n",
       " 'CDLRISEFALL3METHODS': {'t+': 1, 't-': 2, 's': 1, 'f': 0},\n",
       " 'CDLSEPARATINGLINES': {'t+': 122, 't-': 146, 's': 121, 'f': 1},\n",
       " 'CDLSHOOTINGSTAR': {'t+': 0, 't-': 40, 's': 0, 'f': 0},\n",
       " 'CDLSHORTLINE': {'t+': 3706, 't-': 3147, 's': 3603, 'f': 102},\n",
       " 'CDLSPINNINGTOP': {'t+': 4897, 't-': 4768, 's': 4837, 'f': 59},\n",
       " 'CDLSTALLEDPATTERN': {'t+': 0, 't-': 62, 's': 0, 'f': 0},\n",
       " 'CDLSTICKSANDWICH': {'t+': 1, 't-': 0, 's': 1, 'f': 0},\n",
       " 'CDLTAKURI': {'t+': 777, 't-': 0, 's': 764, 'f': 13},\n",
       " 'CDLTASUKIGAP': {'t+': 1, 't-': 0, 's': 1, 'f': 0},\n",
       " 'CDLTHRUSTING': {'t+': 0, 't-': 1, 's': 0, 'f': 0},\n",
       " 'CDLTRISTAR': {'t+': 0, 't-': 1, 's': 0, 'f': 0},\n",
       " 'CDLUNIQUE3RIVER': {'t+': 0, 't-': 0, 's': 0, 'f': 0},\n",
       " 'CDLUPSIDEGAP2CROWS': {'t+': 0, 't-': 0, 's': 0, 'f': 0},\n",
       " 'CDLXSIDEGAP3METHODS': {'t+': 40, 't-': 38, 's': 40, 'f': 0}}"
      ]
     },
     "execution_count": 22,
     "metadata": {},
     "output_type": "execute_result"
    }
   ],
   "source": [
    "pattern_dict"
   ]
  },
  {
   "cell_type": "code",
   "execution_count": 23,
   "id": "01194980-6ade-46e6-bce1-9c839afea5e3",
   "metadata": {},
   "outputs": [],
   "source": [
    "patt_df = pd.DataFrame.from_dict(pattern_dict,orient='index')"
   ]
  },
  {
   "cell_type": "code",
   "execution_count": 24,
   "id": "11c0031a-ff14-4485-ab29-01188a905a23",
   "metadata": {},
   "outputs": [
    {
     "data": {
      "text/html": [
       "<div>\n",
       "<style scoped>\n",
       "    .dataframe tbody tr th:only-of-type {\n",
       "        vertical-align: middle;\n",
       "    }\n",
       "\n",
       "    .dataframe tbody tr th {\n",
       "        vertical-align: top;\n",
       "    }\n",
       "\n",
       "    .dataframe thead th {\n",
       "        text-align: right;\n",
       "    }\n",
       "</style>\n",
       "<table border=\"1\" class=\"dataframe\">\n",
       "  <thead>\n",
       "    <tr style=\"text-align: right;\">\n",
       "      <th></th>\n",
       "      <th>t+</th>\n",
       "      <th>t-</th>\n",
       "      <th>s</th>\n",
       "      <th>f</th>\n",
       "    </tr>\n",
       "  </thead>\n",
       "  <tbody>\n",
       "    <tr>\n",
       "      <th>CDL2CROWS</th>\n",
       "      <td>0</td>\n",
       "      <td>0</td>\n",
       "      <td>0</td>\n",
       "      <td>0</td>\n",
       "    </tr>\n",
       "    <tr>\n",
       "      <th>CDL3BLACKCROWS</th>\n",
       "      <td>0</td>\n",
       "      <td>1</td>\n",
       "      <td>0</td>\n",
       "      <td>0</td>\n",
       "    </tr>\n",
       "    <tr>\n",
       "      <th>CDL3INSIDE</th>\n",
       "      <td>48</td>\n",
       "      <td>34</td>\n",
       "      <td>47</td>\n",
       "      <td>1</td>\n",
       "    </tr>\n",
       "    <tr>\n",
       "      <th>CDL3LINESTRIKE</th>\n",
       "      <td>23</td>\n",
       "      <td>16</td>\n",
       "      <td>23</td>\n",
       "      <td>0</td>\n",
       "    </tr>\n",
       "    <tr>\n",
       "      <th>CDL3OUTSIDE</th>\n",
       "      <td>188</td>\n",
       "      <td>179</td>\n",
       "      <td>185</td>\n",
       "      <td>2</td>\n",
       "    </tr>\n",
       "  </tbody>\n",
       "</table>\n",
       "</div>"
      ],
      "text/plain": [
       "                 t+   t-    s  f\n",
       "CDL2CROWS         0    0    0  0\n",
       "CDL3BLACKCROWS    0    1    0  0\n",
       "CDL3INSIDE       48   34   47  1\n",
       "CDL3LINESTRIKE   23   16   23  0\n",
       "CDL3OUTSIDE     188  179  185  2"
      ]
     },
     "execution_count": 24,
     "metadata": {},
     "output_type": "execute_result"
    }
   ],
   "source": [
    "patt_df.head()"
   ]
  },
  {
   "cell_type": "code",
   "execution_count": 25,
   "id": "36f4e2db-0517-4bbd-aa26-1560c873ab14",
   "metadata": {},
   "outputs": [],
   "source": [
    "patt_df[\"score\"] = patt_df[\"s\"]/(patt_df[\"f\"] + patt_df[\"s\"] + 1) "
   ]
  },
  {
   "cell_type": "code",
   "execution_count": 30,
   "id": "02038cac-f7dd-412a-b0f0-f401591b0103",
   "metadata": {},
   "outputs": [
    {
     "data": {
      "text/html": [
       "<div>\n",
       "<style scoped>\n",
       "    .dataframe tbody tr th:only-of-type {\n",
       "        vertical-align: middle;\n",
       "    }\n",
       "\n",
       "    .dataframe tbody tr th {\n",
       "        vertical-align: top;\n",
       "    }\n",
       "\n",
       "    .dataframe thead th {\n",
       "        text-align: right;\n",
       "    }\n",
       "</style>\n",
       "<table border=\"1\" class=\"dataframe\">\n",
       "  <thead>\n",
       "    <tr style=\"text-align: right;\">\n",
       "      <th></th>\n",
       "      <th>t+</th>\n",
       "      <th>t-</th>\n",
       "      <th>s</th>\n",
       "      <th>f</th>\n",
       "      <th>score</th>\n",
       "    </tr>\n",
       "  </thead>\n",
       "  <tbody>\n",
       "    <tr>\n",
       "      <th>CDLDOJI</th>\n",
       "      <td>6384</td>\n",
       "      <td>0</td>\n",
       "      <td>6253</td>\n",
       "      <td>131</td>\n",
       "      <td>0.979327</td>\n",
       "    </tr>\n",
       "    <tr>\n",
       "      <th>CDLSHORTLINE</th>\n",
       "      <td>3706</td>\n",
       "      <td>3147</td>\n",
       "      <td>3603</td>\n",
       "      <td>102</td>\n",
       "      <td>0.972207</td>\n",
       "    </tr>\n",
       "    <tr>\n",
       "      <th>CDLLONGLEGGEDDOJI</th>\n",
       "      <td>6284</td>\n",
       "      <td>0</td>\n",
       "      <td>6205</td>\n",
       "      <td>79</td>\n",
       "      <td>0.987271</td>\n",
       "    </tr>\n",
       "    <tr>\n",
       "      <th>CDLRICKSHAWMAN</th>\n",
       "      <td>4669</td>\n",
       "      <td>0</td>\n",
       "      <td>4610</td>\n",
       "      <td>59</td>\n",
       "      <td>0.987152</td>\n",
       "    </tr>\n",
       "    <tr>\n",
       "      <th>CDLSPINNINGTOP</th>\n",
       "      <td>4897</td>\n",
       "      <td>4768</td>\n",
       "      <td>4837</td>\n",
       "      <td>59</td>\n",
       "      <td>0.987748</td>\n",
       "    </tr>\n",
       "    <tr>\n",
       "      <th>CDLLONGLINE</th>\n",
       "      <td>3671</td>\n",
       "      <td>3143</td>\n",
       "      <td>3633</td>\n",
       "      <td>38</td>\n",
       "      <td>0.989379</td>\n",
       "    </tr>\n",
       "    <tr>\n",
       "      <th>CDLHIGHWAVE</th>\n",
       "      <td>2863</td>\n",
       "      <td>2769</td>\n",
       "      <td>2827</td>\n",
       "      <td>36</td>\n",
       "      <td>0.987081</td>\n",
       "    </tr>\n",
       "    <tr>\n",
       "      <th>CDLCLOSINGMARUBOZU</th>\n",
       "      <td>2266</td>\n",
       "      <td>1710</td>\n",
       "      <td>2233</td>\n",
       "      <td>32</td>\n",
       "      <td>0.985437</td>\n",
       "    </tr>\n",
       "    <tr>\n",
       "      <th>CDLBELTHOLD</th>\n",
       "      <td>3200</td>\n",
       "      <td>3031</td>\n",
       "      <td>3170</td>\n",
       "      <td>30</td>\n",
       "      <td>0.990316</td>\n",
       "    </tr>\n",
       "    <tr>\n",
       "      <th>CDLHIKKAKE</th>\n",
       "      <td>2807</td>\n",
       "      <td>3070</td>\n",
       "      <td>2785</td>\n",
       "      <td>22</td>\n",
       "      <td>0.991809</td>\n",
       "    </tr>\n",
       "    <tr>\n",
       "      <th>CDLMATCHINGLOW</th>\n",
       "      <td>1975</td>\n",
       "      <td>0</td>\n",
       "      <td>1953</td>\n",
       "      <td>22</td>\n",
       "      <td>0.988360</td>\n",
       "    </tr>\n",
       "    <tr>\n",
       "      <th>CDLMARUBOZU</th>\n",
       "      <td>796</td>\n",
       "      <td>554</td>\n",
       "      <td>781</td>\n",
       "      <td>15</td>\n",
       "      <td>0.979925</td>\n",
       "    </tr>\n",
       "    <tr>\n",
       "      <th>CDLDRAGONFLYDOJI</th>\n",
       "      <td>791</td>\n",
       "      <td>0</td>\n",
       "      <td>778</td>\n",
       "      <td>13</td>\n",
       "      <td>0.982323</td>\n",
       "    </tr>\n",
       "    <tr>\n",
       "      <th>CDLHAMMER</th>\n",
       "      <td>987</td>\n",
       "      <td>0</td>\n",
       "      <td>974</td>\n",
       "      <td>13</td>\n",
       "      <td>0.985830</td>\n",
       "    </tr>\n",
       "    <tr>\n",
       "      <th>CDLTAKURI</th>\n",
       "      <td>777</td>\n",
       "      <td>0</td>\n",
       "      <td>764</td>\n",
       "      <td>13</td>\n",
       "      <td>0.982005</td>\n",
       "    </tr>\n",
       "    <tr>\n",
       "      <th>CDLGRAVESTONEDOJI</th>\n",
       "      <td>708</td>\n",
       "      <td>0</td>\n",
       "      <td>703</td>\n",
       "      <td>5</td>\n",
       "      <td>0.991537</td>\n",
       "    </tr>\n",
       "    <tr>\n",
       "      <th>CDLHARAMI</th>\n",
       "      <td>193</td>\n",
       "      <td>190</td>\n",
       "      <td>191</td>\n",
       "      <td>2</td>\n",
       "      <td>0.984536</td>\n",
       "    </tr>\n",
       "    <tr>\n",
       "      <th>CDLHARAMICROSS</th>\n",
       "      <td>45</td>\n",
       "      <td>54</td>\n",
       "      <td>43</td>\n",
       "      <td>2</td>\n",
       "      <td>0.934783</td>\n",
       "    </tr>\n",
       "    <tr>\n",
       "      <th>CDL3OUTSIDE</th>\n",
       "      <td>188</td>\n",
       "      <td>179</td>\n",
       "      <td>185</td>\n",
       "      <td>2</td>\n",
       "      <td>0.984043</td>\n",
       "    </tr>\n",
       "    <tr>\n",
       "      <th>CDLSEPARATINGLINES</th>\n",
       "      <td>122</td>\n",
       "      <td>146</td>\n",
       "      <td>121</td>\n",
       "      <td>1</td>\n",
       "      <td>0.983740</td>\n",
       "    </tr>\n",
       "    <tr>\n",
       "      <th>CDL3INSIDE</th>\n",
       "      <td>48</td>\n",
       "      <td>34</td>\n",
       "      <td>47</td>\n",
       "      <td>1</td>\n",
       "      <td>0.959184</td>\n",
       "    </tr>\n",
       "    <tr>\n",
       "      <th>CDLHIKKAKEMOD</th>\n",
       "      <td>49</td>\n",
       "      <td>57</td>\n",
       "      <td>48</td>\n",
       "      <td>1</td>\n",
       "      <td>0.960000</td>\n",
       "    </tr>\n",
       "    <tr>\n",
       "      <th>CDLINVERTEDHAMMER</th>\n",
       "      <td>30</td>\n",
       "      <td>0</td>\n",
       "      <td>30</td>\n",
       "      <td>0</td>\n",
       "      <td>0.967742</td>\n",
       "    </tr>\n",
       "    <tr>\n",
       "      <th>CDLMORNINGSTAR</th>\n",
       "      <td>29</td>\n",
       "      <td>0</td>\n",
       "      <td>29</td>\n",
       "      <td>0</td>\n",
       "      <td>0.966667</td>\n",
       "    </tr>\n",
       "    <tr>\n",
       "      <th>CDL3LINESTRIKE</th>\n",
       "      <td>23</td>\n",
       "      <td>16</td>\n",
       "      <td>23</td>\n",
       "      <td>0</td>\n",
       "      <td>0.958333</td>\n",
       "    </tr>\n",
       "    <tr>\n",
       "      <th>CDLENGULFING</th>\n",
       "      <td>364</td>\n",
       "      <td>386</td>\n",
       "      <td>363</td>\n",
       "      <td>0</td>\n",
       "      <td>0.997253</td>\n",
       "    </tr>\n",
       "    <tr>\n",
       "      <th>CDLDOJISTAR</th>\n",
       "      <td>41</td>\n",
       "      <td>50</td>\n",
       "      <td>41</td>\n",
       "      <td>0</td>\n",
       "      <td>0.976190</td>\n",
       "    </tr>\n",
       "    <tr>\n",
       "      <th>CDL3WHITESOLDIERS</th>\n",
       "      <td>17</td>\n",
       "      <td>0</td>\n",
       "      <td>17</td>\n",
       "      <td>0</td>\n",
       "      <td>0.944444</td>\n",
       "    </tr>\n",
       "    <tr>\n",
       "      <th>CDLXSIDEGAP3METHODS</th>\n",
       "      <td>40</td>\n",
       "      <td>38</td>\n",
       "      <td>40</td>\n",
       "      <td>0</td>\n",
       "      <td>0.975610</td>\n",
       "    </tr>\n",
       "  </tbody>\n",
       "</table>\n",
       "</div>"
      ],
      "text/plain": [
       "                       t+    t-     s    f     score\n",
       "CDLDOJI              6384     0  6253  131  0.979327\n",
       "CDLSHORTLINE         3706  3147  3603  102  0.972207\n",
       "CDLLONGLEGGEDDOJI    6284     0  6205   79  0.987271\n",
       "CDLRICKSHAWMAN       4669     0  4610   59  0.987152\n",
       "CDLSPINNINGTOP       4897  4768  4837   59  0.987748\n",
       "CDLLONGLINE          3671  3143  3633   38  0.989379\n",
       "CDLHIGHWAVE          2863  2769  2827   36  0.987081\n",
       "CDLCLOSINGMARUBOZU   2266  1710  2233   32  0.985437\n",
       "CDLBELTHOLD          3200  3031  3170   30  0.990316\n",
       "CDLHIKKAKE           2807  3070  2785   22  0.991809\n",
       "CDLMATCHINGLOW       1975     0  1953   22  0.988360\n",
       "CDLMARUBOZU           796   554   781   15  0.979925\n",
       "CDLDRAGONFLYDOJI      791     0   778   13  0.982323\n",
       "CDLHAMMER             987     0   974   13  0.985830\n",
       "CDLTAKURI             777     0   764   13  0.982005\n",
       "CDLGRAVESTONEDOJI     708     0   703    5  0.991537\n",
       "CDLHARAMI             193   190   191    2  0.984536\n",
       "CDLHARAMICROSS         45    54    43    2  0.934783\n",
       "CDL3OUTSIDE           188   179   185    2  0.984043\n",
       "CDLSEPARATINGLINES    122   146   121    1  0.983740\n",
       "CDL3INSIDE             48    34    47    1  0.959184\n",
       "CDLHIKKAKEMOD          49    57    48    1  0.960000\n",
       "CDLINVERTEDHAMMER      30     0    30    0  0.967742\n",
       "CDLMORNINGSTAR         29     0    29    0  0.966667\n",
       "CDL3LINESTRIKE         23    16    23    0  0.958333\n",
       "CDLENGULFING          364   386   363    0  0.997253\n",
       "CDLDOJISTAR            41    50    41    0  0.976190\n",
       "CDL3WHITESOLDIERS      17     0    17    0  0.944444\n",
       "CDLXSIDEGAP3METHODS    40    38    40    0  0.975610"
      ]
     },
     "execution_count": 30,
     "metadata": {},
     "output_type": "execute_result"
    }
   ],
   "source": [
    "patt_df[patt_df[\"s\"] > 10].sort_values([\"f\"],ascending=False)"
   ]
  },
  {
   "cell_type": "code",
   "execution_count": 26,
   "id": "cdef5bd0-7d60-4982-bd4e-9f711f8e2168",
   "metadata": {},
   "outputs": [],
   "source": [
    "top_10 = patt_df[patt_df[\"s\"] > 10].sort_values([\"f\"],ascending=True).head(10).index.values"
   ]
  },
  {
   "cell_type": "code",
   "execution_count": 28,
   "id": "7cb71995-1583-47c1-aacf-df7b260e62ff",
   "metadata": {},
   "outputs": [
    {
     "data": {
      "text/plain": [
       "CDL2CROWS              0.000000\n",
       "CDL3BLACKCROWS         0.000000\n",
       "CDL3INSIDE             0.959184\n",
       "CDL3LINESTRIKE         0.958333\n",
       "CDL3OUTSIDE            0.984043\n",
       "CDL3STARSINSOUTH       0.000000\n",
       "CDL3WHITESOLDIERS      0.944444\n",
       "CDLABANDONEDBABY       0.000000\n",
       "CDLADVANCEBLOCK        0.000000\n",
       "CDLBELTHOLD            0.990316\n",
       "CDLBREAKAWAY           0.000000\n",
       "CDLCLOSINGMARUBOZU     0.985437\n",
       "CDLCONCEALBABYSWALL    0.000000\n",
       "CDLCOUNTERATTACK       0.000000\n",
       "CDLDARKCLOUDCOVER      0.000000\n",
       "CDLDOJI                0.979327\n",
       "CDLDOJISTAR            0.976190\n",
       "CDLDRAGONFLYDOJI       0.982323\n",
       "CDLENGULFING           0.997253\n",
       "CDLEVENINGDOJISTAR     0.000000\n",
       "CDLEVENINGSTAR         0.000000\n",
       "CDLGAPSIDESIDEWHITE    0.909091\n",
       "CDLGRAVESTONEDOJI      0.991537\n",
       "CDLHAMMER              0.985830\n",
       "CDLHANGINGMAN          0.000000\n",
       "CDLHARAMI              0.984536\n",
       "CDLHARAMICROSS         0.934783\n",
       "CDLHIGHWAVE            0.987081\n",
       "CDLHIKKAKE             0.991809\n",
       "CDLHIKKAKEMOD          0.960000\n",
       "Name: score, dtype: float64"
      ]
     },
     "execution_count": 28,
     "metadata": {},
     "output_type": "execute_result"
    }
   ],
   "source": [
    "patt_df[\"score\"].head(30)"
   ]
  },
  {
   "cell_type": "code",
   "execution_count": null,
   "id": "12e887f6-eba8-4c1e-becd-9f1815af8851",
   "metadata": {},
   "outputs": [],
   "source": []
  },
  {
   "cell_type": "markdown",
   "id": "2818e46f-ff48-478e-a515-84da2ca1fa83",
   "metadata": {},
   "source": [
    "#### pct rule"
   ]
  },
  {
   "cell_type": "code",
   "execution_count": 8,
   "id": "4c027015-aa29-4b43-ad75-e9878290d8c9",
   "metadata": {
    "scrolled": true,
    "tags": []
   },
   "outputs": [
    {
     "name": "stdout",
     "output_type": "stream",
     "text": [
      "CDL2CROWS\n",
      "CDL3BLACKCROWS\n",
      "CDL3INSIDE\n",
      "CDL3LINESTRIKE\n",
      "CDL3OUTSIDE\n",
      "CDL3STARSINSOUTH\n",
      "CDL3WHITESOLDIERS\n",
      "CDLABANDONEDBABY\n",
      "CDLADVANCEBLOCK\n",
      "CDLBELTHOLD\n",
      "CDLBREAKAWAY\n",
      "CDLCLOSINGMARUBOZU\n",
      "CDLCONCEALBABYSWALL\n",
      "CDLCOUNTERATTACK\n",
      "CDLDARKCLOUDCOVER\n",
      "CDLDOJI\n",
      "CDLDOJISTAR\n",
      "CDLDRAGONFLYDOJI\n",
      "CDLENGULFING\n",
      "CDLEVENINGDOJISTAR\n",
      "CDLEVENINGSTAR\n",
      "CDLGAPSIDESIDEWHITE\n",
      "CDLGRAVESTONEDOJI\n",
      "CDLHAMMER\n",
      "CDLHANGINGMAN\n",
      "CDLHARAMI\n",
      "CDLHARAMICROSS\n",
      "CDLHIGHWAVE\n",
      "CDLHIKKAKE\n",
      "CDLHIKKAKEMOD\n",
      "CDLHOMINGPIGEON\n",
      "CDLIDENTICAL3CROWS\n",
      "CDLINNECK\n",
      "CDLINVERTEDHAMMER\n",
      "CDLKICKING\n",
      "CDLKICKINGBYLENGTH\n",
      "CDLLADDERBOTTOM\n",
      "CDLLONGLEGGEDDOJI\n",
      "CDLLONGLINE\n",
      "CDLMARUBOZU\n",
      "CDLMATCHINGLOW\n",
      "CDLMATHOLD\n",
      "CDLMORNINGDOJISTAR\n",
      "CDLMORNINGSTAR\n",
      "CDLONNECK\n",
      "CDLPIERCING\n",
      "CDLRICKSHAWMAN\n",
      "CDLRISEFALL3METHODS\n",
      "CDLSEPARATINGLINES\n",
      "CDLSHOOTINGSTAR\n",
      "CDLSHORTLINE\n",
      "CDLSPINNINGTOP\n",
      "CDLSTALLEDPATTERN\n",
      "CDLSTICKSANDWICH\n",
      "CDLTAKURI\n",
      "CDLTASUKIGAP\n",
      "CDLTHRUSTING\n",
      "CDLTRISTAR\n",
      "CDLUNIQUE3RIVER\n",
      "CDLUPSIDEGAP2CROWS\n",
      "CDLXSIDEGAP3METHODS\n"
     ]
    }
   ],
   "source": [
    "# 3h | high rule | pct\n",
    "H = 7\n",
    "PCT = 0.015\n",
    "pattern_dict2 = {pattern:{\"t+\":0,\"t-\":0,\"s\":0,\"f\":0} for pattern in patt_list}\n",
    "for p in patt_list:\n",
    "    pattern_dict2[p][\"t+\"] = len(df[df[p]>0])\n",
    "    pattern_dict2[p][\"t-\"] = len(df[df[p]<0])\n",
    "    \n",
    "for pattern in patt_list:\n",
    "    print(pattern)\n",
    "    for i in range(len(df)-H):\n",
    "        data = df.iloc[i]\n",
    "        if data[pattern] > 0:\n",
    "            if any(df.iloc[i:i+H][\"high\"] > data[\"close\"] + data[\"close\"] * PCT):\n",
    "                pattern_dict2[pattern][\"s\"] +=1\n",
    "            else:\n",
    "                pattern_dict2[pattern][\"f\"] +=1"
   ]
  },
  {
   "cell_type": "code",
   "execution_count": 9,
   "id": "90f5ed96-8290-4600-b652-602ca694d08a",
   "metadata": {},
   "outputs": [
    {
     "data": {
      "text/plain": [
       "{'CDL2CROWS': {'t+': 0, 't-': 0, 's': 0, 'f': 0},\n",
       " 'CDL3BLACKCROWS': {'t+': 0, 't-': 1, 's': 0, 'f': 0},\n",
       " 'CDL3INSIDE': {'t+': 48, 't-': 34, 's': 26, 'f': 22},\n",
       " 'CDL3LINESTRIKE': {'t+': 23, 't-': 16, 's': 19, 'f': 4},\n",
       " 'CDL3OUTSIDE': {'t+': 188, 't-': 179, 's': 97, 'f': 90},\n",
       " 'CDL3STARSINSOUTH': {'t+': 0, 't-': 0, 's': 0, 'f': 0},\n",
       " 'CDL3WHITESOLDIERS': {'t+': 17, 't-': 0, 's': 3, 'f': 14},\n",
       " 'CDLABANDONEDBABY': {'t+': 0, 't-': 0, 's': 0, 'f': 0},\n",
       " 'CDLADVANCEBLOCK': {'t+': 0, 't-': 418, 's': 0, 'f': 0},\n",
       " 'CDLBELTHOLD': {'t+': 3200, 't-': 3031, 's': 1316, 'f': 1884},\n",
       " 'CDLBREAKAWAY': {'t+': 0, 't-': 0, 's': 0, 'f': 0},\n",
       " 'CDLCLOSINGMARUBOZU': {'t+': 2266, 't-': 1710, 's': 921, 'f': 1344},\n",
       " 'CDLCONCEALBABYSWALL': {'t+': 0, 't-': 0, 's': 0, 'f': 0},\n",
       " 'CDLCOUNTERATTACK': {'t+': 0, 't-': 0, 's': 0, 'f': 0},\n",
       " 'CDLDARKCLOUDCOVER': {'t+': 0, 't-': 1, 's': 0, 'f': 0},\n",
       " 'CDLDOJI': {'t+': 6384, 't-': 0, 's': 2502, 'f': 3881},\n",
       " 'CDLDOJISTAR': {'t+': 41, 't-': 50, 's': 21, 'f': 20},\n",
       " 'CDLDRAGONFLYDOJI': {'t+': 791, 't-': 0, 's': 296, 'f': 495},\n",
       " 'CDLENGULFING': {'t+': 364, 't-': 386, 's': 186, 'f': 177},\n",
       " 'CDLEVENINGDOJISTAR': {'t+': 0, 't-': 11, 's': 0, 'f': 0},\n",
       " 'CDLEVENINGSTAR': {'t+': 0, 't-': 42, 's': 0, 'f': 0},\n",
       " 'CDLGAPSIDESIDEWHITE': {'t+': 10, 't-': 0, 's': 6, 'f': 4},\n",
       " 'CDLGRAVESTONEDOJI': {'t+': 708, 't-': 0, 's': 284, 'f': 424},\n",
       " 'CDLHAMMER': {'t+': 987, 't-': 0, 's': 402, 'f': 585},\n",
       " 'CDLHANGINGMAN': {'t+': 0, 't-': 607, 's': 0, 'f': 0},\n",
       " 'CDLHARAMI': {'t+': 193, 't-': 190, 's': 105, 'f': 88},\n",
       " 'CDLHARAMICROSS': {'t+': 45, 't-': 54, 's': 23, 'f': 22},\n",
       " 'CDLHIGHWAVE': {'t+': 2863, 't-': 2769, 's': 1105, 'f': 1757},\n",
       " 'CDLHIKKAKE': {'t+': 2807, 't-': 3070, 's': 1332, 'f': 1474},\n",
       " 'CDLHIKKAKEMOD': {'t+': 49, 't-': 57, 's': 25, 'f': 24},\n",
       " 'CDLHOMINGPIGEON': {'t+': 2, 't-': 0, 's': 0, 'f': 2},\n",
       " 'CDLIDENTICAL3CROWS': {'t+': 0, 't-': 25, 's': 0, 'f': 0},\n",
       " 'CDLINNECK': {'t+': 0, 't-': 0, 's': 0, 'f': 0},\n",
       " 'CDLINVERTEDHAMMER': {'t+': 30, 't-': 0, 's': 20, 'f': 10},\n",
       " 'CDLKICKING': {'t+': 0, 't-': 0, 's': 0, 'f': 0},\n",
       " 'CDLKICKINGBYLENGTH': {'t+': 0, 't-': 0, 's': 0, 'f': 0},\n",
       " 'CDLLADDERBOTTOM': {'t+': 0, 't-': 0, 's': 0, 'f': 0},\n",
       " 'CDLLONGLEGGEDDOJI': {'t+': 6284, 't-': 0, 's': 2469, 'f': 3814},\n",
       " 'CDLLONGLINE': {'t+': 3671, 't-': 3143, 's': 1485, 'f': 2186},\n",
       " 'CDLMARUBOZU': {'t+': 796, 't-': 554, 's': 339, 'f': 457},\n",
       " 'CDLMATCHINGLOW': {'t+': 1975, 't-': 0, 's': 637, 'f': 1338},\n",
       " 'CDLMATHOLD': {'t+': 0, 't-': 0, 's': 0, 'f': 0},\n",
       " 'CDLMORNINGDOJISTAR': {'t+': 8, 't-': 0, 's': 4, 'f': 4},\n",
       " 'CDLMORNINGSTAR': {'t+': 29, 't-': 0, 's': 17, 'f': 12},\n",
       " 'CDLONNECK': {'t+': 0, 't-': 0, 's': 0, 'f': 0},\n",
       " 'CDLPIERCING': {'t+': 0, 't-': 0, 's': 0, 'f': 0},\n",
       " 'CDLRICKSHAWMAN': {'t+': 4669, 't-': 0, 's': 1818, 'f': 2850},\n",
       " 'CDLRISEFALL3METHODS': {'t+': 1, 't-': 2, 's': 1, 'f': 0},\n",
       " 'CDLSEPARATINGLINES': {'t+': 122, 't-': 146, 's': 55, 'f': 67},\n",
       " 'CDLSHOOTINGSTAR': {'t+': 0, 't-': 40, 's': 0, 'f': 0},\n",
       " 'CDLSHORTLINE': {'t+': 3706, 't-': 3147, 's': 1387, 'f': 2318},\n",
       " 'CDLSPINNINGTOP': {'t+': 4897, 't-': 4768, 's': 1890, 'f': 3005},\n",
       " 'CDLSTALLEDPATTERN': {'t+': 0, 't-': 62, 's': 0, 'f': 0},\n",
       " 'CDLSTICKSANDWICH': {'t+': 1, 't-': 0, 's': 1, 'f': 0},\n",
       " 'CDLTAKURI': {'t+': 777, 't-': 0, 's': 294, 'f': 483},\n",
       " 'CDLTASUKIGAP': {'t+': 1, 't-': 0, 's': 1, 'f': 0},\n",
       " 'CDLTHRUSTING': {'t+': 0, 't-': 1, 's': 0, 'f': 0},\n",
       " 'CDLTRISTAR': {'t+': 0, 't-': 1, 's': 0, 'f': 0},\n",
       " 'CDLUNIQUE3RIVER': {'t+': 0, 't-': 0, 's': 0, 'f': 0},\n",
       " 'CDLUPSIDEGAP2CROWS': {'t+': 0, 't-': 0, 's': 0, 'f': 0},\n",
       " 'CDLXSIDEGAP3METHODS': {'t+': 40, 't-': 38, 's': 26, 'f': 14}}"
      ]
     },
     "execution_count": 9,
     "metadata": {},
     "output_type": "execute_result"
    }
   ],
   "source": [
    "pattern_dict2"
   ]
  },
  {
   "cell_type": "code",
   "execution_count": 13,
   "id": "0f5763b7-2095-4383-8df4-d99c3c05ab0a",
   "metadata": {},
   "outputs": [],
   "source": [
    "patt_df2 = pd.DataFrame.from_dict(pattern_dict2,orient='index')"
   ]
  },
  {
   "cell_type": "code",
   "execution_count": 14,
   "id": "07f8975f-14b8-4a28-8dbe-24e6f051d72a",
   "metadata": {},
   "outputs": [],
   "source": [
    "patt_df2[\"score\"] = patt_df2[\"s\"]/patt_df2[\"t+\"]"
   ]
  },
  {
   "cell_type": "code",
   "execution_count": 16,
   "id": "cb9c6453-e927-4777-9ce4-ec6391b388cf",
   "metadata": {},
   "outputs": [
    {
     "data": {
      "text/html": [
       "<div>\n",
       "<style scoped>\n",
       "    .dataframe tbody tr th:only-of-type {\n",
       "        vertical-align: middle;\n",
       "    }\n",
       "\n",
       "    .dataframe tbody tr th {\n",
       "        vertical-align: top;\n",
       "    }\n",
       "\n",
       "    .dataframe thead th {\n",
       "        text-align: right;\n",
       "    }\n",
       "</style>\n",
       "<table border=\"1\" class=\"dataframe\">\n",
       "  <thead>\n",
       "    <tr style=\"text-align: right;\">\n",
       "      <th></th>\n",
       "      <th>t+</th>\n",
       "      <th>t-</th>\n",
       "      <th>s</th>\n",
       "      <th>f</th>\n",
       "      <th>score</th>\n",
       "    </tr>\n",
       "  </thead>\n",
       "  <tbody>\n",
       "    <tr>\n",
       "      <th>CDL3LINESTRIKE</th>\n",
       "      <td>23</td>\n",
       "      <td>16</td>\n",
       "      <td>19</td>\n",
       "      <td>4</td>\n",
       "      <td>0.826087</td>\n",
       "    </tr>\n",
       "    <tr>\n",
       "      <th>CDLINVERTEDHAMMER</th>\n",
       "      <td>30</td>\n",
       "      <td>0</td>\n",
       "      <td>20</td>\n",
       "      <td>10</td>\n",
       "      <td>0.666667</td>\n",
       "    </tr>\n",
       "    <tr>\n",
       "      <th>CDLXSIDEGAP3METHODS</th>\n",
       "      <td>40</td>\n",
       "      <td>38</td>\n",
       "      <td>26</td>\n",
       "      <td>14</td>\n",
       "      <td>0.650000</td>\n",
       "    </tr>\n",
       "    <tr>\n",
       "      <th>CDLGAPSIDESIDEWHITE</th>\n",
       "      <td>10</td>\n",
       "      <td>0</td>\n",
       "      <td>6</td>\n",
       "      <td>4</td>\n",
       "      <td>0.600000</td>\n",
       "    </tr>\n",
       "    <tr>\n",
       "      <th>CDLMORNINGSTAR</th>\n",
       "      <td>29</td>\n",
       "      <td>0</td>\n",
       "      <td>17</td>\n",
       "      <td>12</td>\n",
       "      <td>0.586207</td>\n",
       "    </tr>\n",
       "    <tr>\n",
       "      <th>CDLHARAMI</th>\n",
       "      <td>193</td>\n",
       "      <td>190</td>\n",
       "      <td>105</td>\n",
       "      <td>88</td>\n",
       "      <td>0.544041</td>\n",
       "    </tr>\n",
       "    <tr>\n",
       "      <th>CDL3INSIDE</th>\n",
       "      <td>48</td>\n",
       "      <td>34</td>\n",
       "      <td>26</td>\n",
       "      <td>22</td>\n",
       "      <td>0.541667</td>\n",
       "    </tr>\n",
       "    <tr>\n",
       "      <th>CDL3OUTSIDE</th>\n",
       "      <td>188</td>\n",
       "      <td>179</td>\n",
       "      <td>97</td>\n",
       "      <td>90</td>\n",
       "      <td>0.515957</td>\n",
       "    </tr>\n",
       "    <tr>\n",
       "      <th>CDLDOJISTAR</th>\n",
       "      <td>41</td>\n",
       "      <td>50</td>\n",
       "      <td>21</td>\n",
       "      <td>20</td>\n",
       "      <td>0.512195</td>\n",
       "    </tr>\n",
       "    <tr>\n",
       "      <th>CDLHARAMICROSS</th>\n",
       "      <td>45</td>\n",
       "      <td>54</td>\n",
       "      <td>23</td>\n",
       "      <td>22</td>\n",
       "      <td>0.511111</td>\n",
       "    </tr>\n",
       "    <tr>\n",
       "      <th>CDLENGULFING</th>\n",
       "      <td>364</td>\n",
       "      <td>386</td>\n",
       "      <td>186</td>\n",
       "      <td>177</td>\n",
       "      <td>0.510989</td>\n",
       "    </tr>\n",
       "    <tr>\n",
       "      <th>CDLHIKKAKEMOD</th>\n",
       "      <td>49</td>\n",
       "      <td>57</td>\n",
       "      <td>25</td>\n",
       "      <td>24</td>\n",
       "      <td>0.510204</td>\n",
       "    </tr>\n",
       "    <tr>\n",
       "      <th>CDLMORNINGDOJISTAR</th>\n",
       "      <td>8</td>\n",
       "      <td>0</td>\n",
       "      <td>4</td>\n",
       "      <td>4</td>\n",
       "      <td>0.500000</td>\n",
       "    </tr>\n",
       "    <tr>\n",
       "      <th>CDLHIKKAKE</th>\n",
       "      <td>2807</td>\n",
       "      <td>3070</td>\n",
       "      <td>1332</td>\n",
       "      <td>1474</td>\n",
       "      <td>0.474528</td>\n",
       "    </tr>\n",
       "    <tr>\n",
       "      <th>CDLSEPARATINGLINES</th>\n",
       "      <td>122</td>\n",
       "      <td>146</td>\n",
       "      <td>55</td>\n",
       "      <td>67</td>\n",
       "      <td>0.450820</td>\n",
       "    </tr>\n",
       "    <tr>\n",
       "      <th>CDLMARUBOZU</th>\n",
       "      <td>796</td>\n",
       "      <td>554</td>\n",
       "      <td>339</td>\n",
       "      <td>457</td>\n",
       "      <td>0.425879</td>\n",
       "    </tr>\n",
       "    <tr>\n",
       "      <th>CDLBELTHOLD</th>\n",
       "      <td>3200</td>\n",
       "      <td>3031</td>\n",
       "      <td>1316</td>\n",
       "      <td>1884</td>\n",
       "      <td>0.411250</td>\n",
       "    </tr>\n",
       "    <tr>\n",
       "      <th>CDLHAMMER</th>\n",
       "      <td>987</td>\n",
       "      <td>0</td>\n",
       "      <td>402</td>\n",
       "      <td>585</td>\n",
       "      <td>0.407295</td>\n",
       "    </tr>\n",
       "    <tr>\n",
       "      <th>CDLCLOSINGMARUBOZU</th>\n",
       "      <td>2266</td>\n",
       "      <td>1710</td>\n",
       "      <td>921</td>\n",
       "      <td>1344</td>\n",
       "      <td>0.406443</td>\n",
       "    </tr>\n",
       "    <tr>\n",
       "      <th>CDLLONGLINE</th>\n",
       "      <td>3671</td>\n",
       "      <td>3143</td>\n",
       "      <td>1485</td>\n",
       "      <td>2186</td>\n",
       "      <td>0.404522</td>\n",
       "    </tr>\n",
       "    <tr>\n",
       "      <th>CDLGRAVESTONEDOJI</th>\n",
       "      <td>708</td>\n",
       "      <td>0</td>\n",
       "      <td>284</td>\n",
       "      <td>424</td>\n",
       "      <td>0.401130</td>\n",
       "    </tr>\n",
       "    <tr>\n",
       "      <th>CDLLONGLEGGEDDOJI</th>\n",
       "      <td>6284</td>\n",
       "      <td>0</td>\n",
       "      <td>2469</td>\n",
       "      <td>3814</td>\n",
       "      <td>0.392903</td>\n",
       "    </tr>\n",
       "    <tr>\n",
       "      <th>CDLDOJI</th>\n",
       "      <td>6384</td>\n",
       "      <td>0</td>\n",
       "      <td>2502</td>\n",
       "      <td>3881</td>\n",
       "      <td>0.391917</td>\n",
       "    </tr>\n",
       "    <tr>\n",
       "      <th>CDLRICKSHAWMAN</th>\n",
       "      <td>4669</td>\n",
       "      <td>0</td>\n",
       "      <td>1818</td>\n",
       "      <td>2850</td>\n",
       "      <td>0.389377</td>\n",
       "    </tr>\n",
       "    <tr>\n",
       "      <th>CDLHIGHWAVE</th>\n",
       "      <td>2863</td>\n",
       "      <td>2769</td>\n",
       "      <td>1105</td>\n",
       "      <td>1757</td>\n",
       "      <td>0.385959</td>\n",
       "    </tr>\n",
       "    <tr>\n",
       "      <th>CDLSPINNINGTOP</th>\n",
       "      <td>4897</td>\n",
       "      <td>4768</td>\n",
       "      <td>1890</td>\n",
       "      <td>3005</td>\n",
       "      <td>0.385951</td>\n",
       "    </tr>\n",
       "    <tr>\n",
       "      <th>CDLTAKURI</th>\n",
       "      <td>777</td>\n",
       "      <td>0</td>\n",
       "      <td>294</td>\n",
       "      <td>483</td>\n",
       "      <td>0.378378</td>\n",
       "    </tr>\n",
       "    <tr>\n",
       "      <th>CDLSHORTLINE</th>\n",
       "      <td>3706</td>\n",
       "      <td>3147</td>\n",
       "      <td>1387</td>\n",
       "      <td>2318</td>\n",
       "      <td>0.374258</td>\n",
       "    </tr>\n",
       "    <tr>\n",
       "      <th>CDLDRAGONFLYDOJI</th>\n",
       "      <td>791</td>\n",
       "      <td>0</td>\n",
       "      <td>296</td>\n",
       "      <td>495</td>\n",
       "      <td>0.374210</td>\n",
       "    </tr>\n",
       "    <tr>\n",
       "      <th>CDLMATCHINGLOW</th>\n",
       "      <td>1975</td>\n",
       "      <td>0</td>\n",
       "      <td>637</td>\n",
       "      <td>1338</td>\n",
       "      <td>0.322532</td>\n",
       "    </tr>\n",
       "    <tr>\n",
       "      <th>CDL3WHITESOLDIERS</th>\n",
       "      <td>17</td>\n",
       "      <td>0</td>\n",
       "      <td>3</td>\n",
       "      <td>14</td>\n",
       "      <td>0.176471</td>\n",
       "    </tr>\n",
       "  </tbody>\n",
       "</table>\n",
       "</div>"
      ],
      "text/plain": [
       "                       t+    t-     s     f     score\n",
       "CDL3LINESTRIKE         23    16    19     4  0.826087\n",
       "CDLINVERTEDHAMMER      30     0    20    10  0.666667\n",
       "CDLXSIDEGAP3METHODS    40    38    26    14  0.650000\n",
       "CDLGAPSIDESIDEWHITE    10     0     6     4  0.600000\n",
       "CDLMORNINGSTAR         29     0    17    12  0.586207\n",
       "CDLHARAMI             193   190   105    88  0.544041\n",
       "CDL3INSIDE             48    34    26    22  0.541667\n",
       "CDL3OUTSIDE           188   179    97    90  0.515957\n",
       "CDLDOJISTAR            41    50    21    20  0.512195\n",
       "CDLHARAMICROSS         45    54    23    22  0.511111\n",
       "CDLENGULFING          364   386   186   177  0.510989\n",
       "CDLHIKKAKEMOD          49    57    25    24  0.510204\n",
       "CDLMORNINGDOJISTAR      8     0     4     4  0.500000\n",
       "CDLHIKKAKE           2807  3070  1332  1474  0.474528\n",
       "CDLSEPARATINGLINES    122   146    55    67  0.450820\n",
       "CDLMARUBOZU           796   554   339   457  0.425879\n",
       "CDLBELTHOLD          3200  3031  1316  1884  0.411250\n",
       "CDLHAMMER             987     0   402   585  0.407295\n",
       "CDLCLOSINGMARUBOZU   2266  1710   921  1344  0.406443\n",
       "CDLLONGLINE          3671  3143  1485  2186  0.404522\n",
       "CDLGRAVESTONEDOJI     708     0   284   424  0.401130\n",
       "CDLLONGLEGGEDDOJI    6284     0  2469  3814  0.392903\n",
       "CDLDOJI              6384     0  2502  3881  0.391917\n",
       "CDLRICKSHAWMAN       4669     0  1818  2850  0.389377\n",
       "CDLHIGHWAVE          2863  2769  1105  1757  0.385959\n",
       "CDLSPINNINGTOP       4897  4768  1890  3005  0.385951\n",
       "CDLTAKURI             777     0   294   483  0.378378\n",
       "CDLSHORTLINE         3706  3147  1387  2318  0.374258\n",
       "CDLDRAGONFLYDOJI      791     0   296   495  0.374210\n",
       "CDLMATCHINGLOW       1975     0   637  1338  0.322532\n",
       "CDL3WHITESOLDIERS      17     0     3    14  0.176471"
      ]
     },
     "execution_count": 16,
     "metadata": {},
     "output_type": "execute_result"
    }
   ],
   "source": [
    "patt_df2[patt_df2[\"t+\"] > 5].sort_values([\"score\"],ascending=False)"
   ]
  },
  {
   "cell_type": "code",
   "execution_count": 15,
   "id": "9457e255-b5a4-4346-b5b1-6d6b305d3fd1",
   "metadata": {},
   "outputs": [],
   "source": [
    "top_10 = patt_df2[patt_df2[\"t+\"] > 5].sort_values([\"score\"],ascending=False)"
   ]
  },
  {
   "cell_type": "code",
   "execution_count": 26,
   "id": "2e591333-924a-4036-9486-e0099fb2e1eb",
   "metadata": {},
   "outputs": [
    {
     "data": {
      "text/plain": [
       "['CDL3LINESTRIKE',\n",
       " 'CDLINVERTEDHAMMER',\n",
       " 'CDLXSIDEGAP3METHODS',\n",
       " 'CDLGAPSIDESIDEWHITE']"
      ]
     },
     "execution_count": 26,
     "metadata": {},
     "output_type": "execute_result"
    }
   ],
   "source": [
    "list(top_10)"
   ]
  },
  {
   "cell_type": "code",
   "execution_count": null,
   "id": "73581ab0-eb57-4587-81c2-4332914c1faf",
   "metadata": {},
   "outputs": [],
   "source": []
  },
  {
   "cell_type": "code",
   "execution_count": 38,
   "id": "5adb795e-3792-42b2-b9cc-4d6e442fd765",
   "metadata": {},
   "outputs": [],
   "source": [
    "import mplfinance as mpf\n",
    "import matplotlib.pyplot as plt"
   ]
  },
  {
   "cell_type": "code",
   "execution_count": 33,
   "id": "68f7bc55-f979-413a-97b9-9db62028add4",
   "metadata": {},
   "outputs": [],
   "source": [
    "df.set_index('date',inplace=True)"
   ]
  },
  {
   "cell_type": "code",
   "execution_count": 82,
   "id": "ad00ad78-be40-4859-a031-ee3d55e142ae",
   "metadata": {},
   "outputs": [],
   "source": [
    "index = df.index[50]"
   ]
  },
  {
   "cell_type": "code",
   "execution_count": 117,
   "id": "e73e908d-791d-4f81-8984-390372a0f709",
   "metadata": {},
   "outputs": [
    {
     "data": {
      "image/png": "[encoded data removed]",
      "text/plain": [
       "<Figure size 800x575 with 2 Axes>"
      ]
     },
     "metadata": {},
     "output_type": "display_data"
    },
    {
     "ename": "TypeError",
     "evalue": "Expect data as DataFrame",
     "output_type": "error",
     "traceback": [
      "\u001b[0;31m---------------------------------------------------------------------------\u001b[0m",
      "\u001b[0;31mTypeError\u001b[0m                                 Traceback (most recent call last)",
      "\u001b[0;32m/tmp/ipykernel_343030/1818188424.py\u001b[0m in \u001b[0;36m<module>\u001b[0;34m\u001b[0m\n\u001b[1;32m      1\u001b[0m \u001b[0mmpf\u001b[0m\u001b[0;34m.\u001b[0m\u001b[0mplot\u001b[0m\u001b[0;34m(\u001b[0m\u001b[0mdf\u001b[0m\u001b[0;34m.\u001b[0m\u001b[0miloc\u001b[0m\u001b[0;34m[\u001b[0m\u001b[0;34m-\u001b[0m\u001b[0;36m200\u001b[0m\u001b[0;34m:\u001b[0m\u001b[0;34m]\u001b[0m\u001b[0;34m,\u001b[0m\u001b[0mtype\u001b[0m\u001b[0;34m=\u001b[0m\u001b[0;34m'candle'\u001b[0m\u001b[0;34m,\u001b[0m\u001b[0mstyle\u001b[0m\u001b[0;34m=\u001b[0m\u001b[0;34m\"charles\"\u001b[0m\u001b[0;34m)\u001b[0m\u001b[0;34m\u001b[0m\u001b[0;34m\u001b[0m\u001b[0m\n\u001b[0;32m----> 2\u001b[0;31m \u001b[0mmpf\u001b[0m\u001b[0;34m.\u001b[0m\u001b[0mplot\u001b[0m\u001b[0;34m(\u001b[0m\u001b[0mdf\u001b[0m\u001b[0;34m.\u001b[0m\u001b[0miloc\u001b[0m\u001b[0;34m[\u001b[0m\u001b[0;34m-\u001b[0m\u001b[0;36m200\u001b[0m\u001b[0;34m:\u001b[0m\u001b[0;34m]\u001b[0m\u001b[0;34m[\u001b[0m\u001b[0;34m\"CDLLONGLEGGEDDOJI\"\u001b[0m\u001b[0;34m]\u001b[0m\u001b[0;34m)\u001b[0m\u001b[0;34m\u001b[0m\u001b[0;34m\u001b[0m\u001b[0m\n\u001b[0m",
      "\u001b[0;32m~/Desktop/python-env/crypto/lib/python3.8/site-packages/mplfinance/plotting.py\u001b[0m in \u001b[0;36mplot\u001b[0;34m(data, **kwargs)\u001b[0m\n\u001b[1;32m    296\u001b[0m     \u001b[0mconfig\u001b[0m\u001b[0;34m[\u001b[0m\u001b[0;34m'type'\u001b[0m\u001b[0;34m]\u001b[0m \u001b[0;34m=\u001b[0m \u001b[0m_get_valid_plot_types\u001b[0m\u001b[0;34m(\u001b[0m\u001b[0mconfig\u001b[0m\u001b[0;34m[\u001b[0m\u001b[0;34m'type'\u001b[0m\u001b[0;34m]\u001b[0m\u001b[0;34m)\u001b[0m\u001b[0;34m\u001b[0m\u001b[0;34m\u001b[0m\u001b[0m\n\u001b[1;32m    297\u001b[0m \u001b[0;34m\u001b[0m\u001b[0m\n\u001b[0;32m--> 298\u001b[0;31m     \u001b[0mdates\u001b[0m\u001b[0;34m,\u001b[0m\u001b[0mopens\u001b[0m\u001b[0;34m,\u001b[0m\u001b[0mhighs\u001b[0m\u001b[0;34m,\u001b[0m\u001b[0mlows\u001b[0m\u001b[0;34m,\u001b[0m\u001b[0mcloses\u001b[0m\u001b[0;34m,\u001b[0m\u001b[0mvolumes\u001b[0m \u001b[0;34m=\u001b[0m \u001b[0m_check_and_prepare_data\u001b[0m\u001b[0;34m(\u001b[0m\u001b[0mdata\u001b[0m\u001b[0;34m,\u001b[0m \u001b[0mconfig\u001b[0m\u001b[0;34m)\u001b[0m\u001b[0;34m\u001b[0m\u001b[0;34m\u001b[0m\u001b[0m\n\u001b[0m\u001b[1;32m    299\u001b[0m \u001b[0;34m\u001b[0m\u001b[0m\n\u001b[1;32m    300\u001b[0m     \u001b[0mconfig\u001b[0m\u001b[0;34m[\u001b[0m\u001b[0;34m'xlim'\u001b[0m\u001b[0;34m]\u001b[0m \u001b[0;34m=\u001b[0m \u001b[0m_check_and_convert_xlim_configuration\u001b[0m\u001b[0;34m(\u001b[0m\u001b[0mdata\u001b[0m\u001b[0;34m,\u001b[0m \u001b[0mconfig\u001b[0m\u001b[0;34m)\u001b[0m\u001b[0;34m\u001b[0m\u001b[0;34m\u001b[0m\u001b[0m\n",
      "\u001b[0;32m~/Desktop/python-env/crypto/lib/python3.8/site-packages/mplfinance/_arg_validators.py\u001b[0m in \u001b[0;36m_check_and_prepare_data\u001b[0;34m(data, config)\u001b[0m\n\u001b[1;32m     25\u001b[0m     '''\n\u001b[1;32m     26\u001b[0m     \u001b[0;32mif\u001b[0m \u001b[0;32mnot\u001b[0m \u001b[0misinstance\u001b[0m\u001b[0;34m(\u001b[0m\u001b[0mdata\u001b[0m\u001b[0;34m,\u001b[0m \u001b[0mpd\u001b[0m\u001b[0;34m.\u001b[0m\u001b[0mcore\u001b[0m\u001b[0;34m.\u001b[0m\u001b[0mframe\u001b[0m\u001b[0;34m.\u001b[0m\u001b[0mDataFrame\u001b[0m\u001b[0;34m)\u001b[0m\u001b[0;34m:\u001b[0m\u001b[0;34m\u001b[0m\u001b[0;34m\u001b[0m\u001b[0m\n\u001b[0;32m---> 27\u001b[0;31m         \u001b[0;32mraise\u001b[0m \u001b[0mTypeError\u001b[0m\u001b[0;34m(\u001b[0m\u001b[0;34m'Expect data as DataFrame'\u001b[0m\u001b[0;34m)\u001b[0m\u001b[0;34m\u001b[0m\u001b[0;34m\u001b[0m\u001b[0m\n\u001b[0m\u001b[1;32m     28\u001b[0m \u001b[0;34m\u001b[0m\u001b[0m\n\u001b[1;32m     29\u001b[0m     \u001b[0;32mif\u001b[0m \u001b[0;32mnot\u001b[0m \u001b[0misinstance\u001b[0m\u001b[0;34m(\u001b[0m\u001b[0mdata\u001b[0m\u001b[0;34m.\u001b[0m\u001b[0mindex\u001b[0m\u001b[0;34m,\u001b[0m\u001b[0mpd\u001b[0m\u001b[0;34m.\u001b[0m\u001b[0mcore\u001b[0m\u001b[0;34m.\u001b[0m\u001b[0mindexes\u001b[0m\u001b[0;34m.\u001b[0m\u001b[0mdatetimes\u001b[0m\u001b[0;34m.\u001b[0m\u001b[0mDatetimeIndex\u001b[0m\u001b[0;34m)\u001b[0m\u001b[0;34m:\u001b[0m\u001b[0;34m\u001b[0m\u001b[0;34m\u001b[0m\u001b[0m\n",
      "\u001b[0;31mTypeError\u001b[0m: Expect data as DataFrame"
     ]
    }
   ],
   "source": [
    "mpf.plot(df.iloc[-200:],type='candle',style=\"charles\")\n",
    "mpf.plot(df.iloc[-200:][\"CDLLONGLEGGEDDOJI\"])"
   ]
  },
  {
   "cell_type": "code",
   "execution_count": 97,
   "id": "8014c80e-4df6-42c0-a46b-fe2875b85278",
   "metadata": {},
   "outputs": [
    {
     "data": {
      "image/png": "[encoded data removed]",
      "text/plain": [
       "<Figure size 800x575 with 2 Axes>"
      ]
     },
     "metadata": {},
     "output_type": "display_data"
    }
   ],
   "source": [
    "fig = mpf.plot(df.iloc[-200:],type='candle',style=\"charles\")"
   ]
  },
  {
   "cell_type": "code",
   "execution_count": 110,
   "id": "e8e6a7dc-f5d5-4ff0-a107-815f2f6198dd",
   "metadata": {},
   "outputs": [
    {
     "data": {
      "text/plain": [
       "<Mpf_Figure size 1000x700 with 0 Axes>"
      ]
     },
     "metadata": {},
     "output_type": "display_data"
    }
   ],
   "source": [
    "s = mpf.make_mpf_style(base_mpf_style='charles', rc={'font.size': 6})\n",
    "fig = mpf.figure(figsize=(10, 7), style=s)"
   ]
  },
  {
   "cell_type": "code",
   "execution_count": 111,
   "id": "3cb356d4-46ad-4176-83bc-44e55945d49c",
   "metadata": {},
   "outputs": [],
   "source": [
    "ax1 = fig.add_subplot(2,1,1)\n",
    "ax2 = fig.add_subplot(2,1,2)"
   ]
  },
  {
   "cell_type": "code",
   "execution_count": 112,
   "id": "d1303777-dd9e-4243-9ef4-91262afce1eb",
   "metadata": {},
   "outputs": [
    {
     "name": "stderr",
     "output_type": "stream",
     "text": [
      "/home/ashraf/Desktop/python-env/crypto/lib/python3.8/site-packages/mplfinance/_arg_validators.py:35: UserWarning: \n",
      "\n",
      " ================================================================= \n",
      "\n",
      "   WARNING: YOU ARE PLOTTING SO MUCH DATA THAT IT MAY NOT BE\n",
      "            POSSIBLE TO SEE DETAILS (Candles, Ohlc-Bars, Etc.)\n",
      "   For more information see:\n",
      "   - https://github.com/matplotlib/mplfinance/wiki/Plotting-Too-Much-Data\n",
      "   \n",
      "   TO SILENCE THIS WARNING, set `type='line'` in `mpf.plot()`\n",
      "   OR set kwarg `warn_too_much_data=N` where N is an integer \n",
      "   LARGER than the number of data points you want to plot.\n",
      "\n",
      " ================================================================ \n",
      "  warnings.warn('\\n\\n ================================================================= '+\n"
     ]
    }
   ],
   "source": [
    "mpf.plot(df, type='candle', ax=ax1)\n",
    "plt.show()"
   ]
  },
  {
   "cell_type": "code",
   "execution_count": null,
   "id": "dfe85f50-2e25-4090-885a-5f5dd5a97d04",
   "metadata": {},
   "outputs": [],
   "source": []
  },
  {
   "cell_type": "code",
   "execution_count": null,
   "id": "3bd2b464-c3a8-4131-b1d9-4966ed429e13",
   "metadata": {},
   "outputs": [],
   "source": []
  },
  {
   "cell_type": "code",
   "execution_count": 85,
   "id": "120a3f58-7281-4be3-83e5-e1f1f398e897",
   "metadata": {},
   "outputs": [
    {
     "data": {
      "text/plain": [
       "Series([], dtype: int32)"
      ]
     },
     "execution_count": 85,
     "metadata": {},
     "output_type": "execute_result"
    }
   ],
   "source": [
    "vals = talib.CDL3INSIDE(df[\"open\"],df[\"high\"],df[\"low\"],df[\"close\"])\n",
    "vals[vals > 199]"
   ]
  },
  {
   "cell_type": "code",
   "execution_count": 97,
   "id": "6de1ee5f-3249-41dc-8a86-578a5d06ace0",
   "metadata": {},
   "outputs": [
    {
     "data": {
      "text/plain": [
       "0         652.74\n",
       "1         303.28\n",
       "2         304.44\n",
       "3         307.96\n",
       "4         309.97\n",
       "          ...   \n",
       "40107    4528.98\n",
       "40108    4526.00\n",
       "40109    4517.46\n",
       "40110    4550.00\n",
       "40111    4537.97\n",
       "Name: high, Length: 40112, dtype: float64"
      ]
     },
     "execution_count": 97,
     "metadata": {},
     "output_type": "execute_result"
    }
   ],
   "source": [
    "df[\"high\"]"
   ]
  },
  {
   "cell_type": "code",
   "execution_count": 101,
   "id": "2037754b-971b-4acb-917a-829cd6412114",
   "metadata": {},
   "outputs": [
    {
     "data": {
      "text/plain": [
       "0     652.74\n",
       "1     303.28\n",
       "2     304.44\n",
       "3     307.96\n",
       "4     309.97\n",
       "5     312.00\n",
       "6     310.97\n",
       "7     310.68\n",
       "8     310.51\n",
       "9     309.72\n",
       "10    309.40\n",
       "Name: high, dtype: float64"
      ]
     },
     "execution_count": 101,
     "metadata": {},
     "output_type": "execute_result"
    }
   ],
   "source": [
    "df.loc[0:10][\"high\"]"
   ]
  },
  {
   "cell_type": "markdown",
   "id": "e934559f-b061-4eab-b6dd-e734eb25d972",
   "metadata": {},
   "source": [
    "### avg treds"
   ]
  },
  {
   "cell_type": "code",
   "execution_count": 159,
   "id": "b34de866-d44f-4ad9-a0a0-8554695cb246",
   "metadata": {},
   "outputs": [],
   "source": [
    "H = 5\n",
    "profit_pct = []\n",
    "for i in range(len(df)-H):\n",
    "    current = df.iloc[i]\n",
    "    close_price = current[\"close\"]\n",
    "    forword = df.iloc[i+1:i+H]\n",
    "    high_price = max(forword[\"close\"])\n",
    "    pct = (high_price - close_price)/close_price\n",
    "    profit_pct.append(pct)\n",
    "    \n",
    "    "
   ]
  },
  {
   "cell_type": "code",
   "execution_count": 151,
   "id": "fb2b8a33-adc0-475c-a2e3-58b1f22dec21",
   "metadata": {},
   "outputs": [
    {
     "data": {
      "text/plain": [
       "0.00782809516930695"
      ]
     },
     "execution_count": 151,
     "metadata": {},
     "output_type": "execute_result"
    }
   ],
   "source": [
    "np.mean(profit_pct)"
   ]
  },
  {
   "cell_type": "code",
   "execution_count": 152,
   "id": "d6e5b106-24ef-46f6-a614-0d44932c895d",
   "metadata": {},
   "outputs": [],
   "source": [
    "import matplotlib.pyplot as plt"
   ]
  },
  {
   "cell_type": "code",
   "execution_count": 153,
   "id": "7665eb57-df8d-483a-8a47-d9d5fb5d802d",
   "metadata": {},
   "outputs": [
    {
     "data": {
      "text/plain": [
       "[<matplotlib.lines.Line2D at 0x7fc30a5b5190>]"
      ]
     },
     "execution_count": 153,
     "metadata": {},
     "output_type": "execute_result"
    },
    {
     "data": {
      "image/png": "[encoded data removed]",
      "text/plain": [
       "<Figure size 432x288 with 1 Axes>"
      ]
     },
     "metadata": {
      "needs_background": "light"
     },
     "output_type": "display_data"
    }
   ],
   "source": [
    "plt.plot(profit_pct)"
   ]
  },
  {
   "cell_type": "code",
   "execution_count": 160,
   "id": "45ac7b7a-ffb4-4221-94a6-086c8d09ffa9",
   "metadata": {},
   "outputs": [
    {
     "data": {
      "text/plain": [
       "0.20248335701997158"
      ]
     },
     "execution_count": 160,
     "metadata": {},
     "output_type": "execute_result"
    }
   ],
   "source": [
    "len([pct for pct in profit_pct  if pct >= 0.015])/len(profit_pct)"
   ]
  },
  {
   "cell_type": "code",
   "execution_count": 161,
   "id": "87cd96d3-3d4d-437c-96db-e918561d7d33",
   "metadata": {},
   "outputs": [],
   "source": [
    "profit_pct2 =profit_pct"
   ]
  },
  {
   "cell_type": "code",
   "execution_count": 162,
   "id": "c3935f05-6a23-4ffc-bf63-f92063bf6f86",
   "metadata": {},
   "outputs": [],
   "source": [
    "for i in range(len(profit_pct2)):\n",
    "    if profit_pct2[i] < 0.015:\n",
    "        profit_pct2[i] = np.nan\n",
    "        "
   ]
  },
  {
   "cell_type": "code",
   "execution_count": 163,
   "id": "1dcf3d20-2abb-4456-bbb8-798ef8dde0b7",
   "metadata": {},
   "outputs": [
    {
     "data": {
      "text/plain": [
       "[<matplotlib.lines.Line2D at 0x7fc30ae189d0>]"
      ]
     },
     "execution_count": 163,
     "metadata": {},
     "output_type": "execute_result"
    },
    {
     "data": {
      "image/png": "[encoded data removed]",
      "text/plain": [
       "<Figure size 1440x864 with 1 Axes>"
      ]
     },
     "metadata": {
      "needs_background": "light"
     },
     "output_type": "display_data"
    }
   ],
   "source": [
    "plt.figure(figsize=(20,12))\n",
    "plt.plot(profit_pct2)"
   ]
  },
  {
   "cell_type": "code",
   "execution_count": 166,
   "id": "de93e699-ad1e-4361-898e-0e9deeadcb43",
   "metadata": {},
   "outputs": [
    {
     "data": {
      "text/plain": [
       "0.031001894581865384"
      ]
     },
     "execution_count": 166,
     "metadata": {},
     "output_type": "execute_result"
    }
   ],
   "source": [
    "np.nanmean(profit_pct2)"
   ]
  },
  {
   "cell_type": "code",
   "execution_count": 170,
   "id": "7bdda6e7-669d-4cdd-8392-ac97082fc955",
   "metadata": {},
   "outputs": [
    {
     "data": {
      "text/plain": [
       "<BarContainer object of 40107 artists>"
      ]
     },
     "execution_count": 170,
     "metadata": {},
     "output_type": "execute_result"
    },
    {
     "data": {
      "image/png": "[encoded data removed]",
      "text/plain": [
       "<Figure size 432x288 with 1 Axes>"
      ]
     },
     "metadata": {
      "needs_background": "light"
     },
     "output_type": "display_data"
    }
   ],
   "source": [
    "plt.bar(list(range(0,len(profit_pct2))),profit_pct2)"
   ]
  },
  {
   "cell_type": "code",
   "execution_count": null,
   "id": "dee16f33-85a5-4867-8925-05532512e138",
   "metadata": {},
   "outputs": [],
   "source": [
    "profit_pct2"
   ]
  },
  {
   "cell_type": "code",
   "execution_count": 172,
   "id": "91f3a08c-80bd-4b33-90a4-757bb3a46fa8",
   "metadata": {},
   "outputs": [],
   "source": [
    "df[\"high-close\"] = (df[\"high\"] - df[\"close\"])/df[\"close\"]"
   ]
  },
  {
   "cell_type": "code",
   "execution_count": 175,
   "id": "0b0a73ce-3fb0-410c-9bee-601dd1f74ca6",
   "metadata": {},
   "outputs": [
    {
     "data": {
      "text/plain": [
       "0.007204747318080284"
      ]
     },
     "execution_count": 175,
     "metadata": {},
     "output_type": "execute_result"
    }
   ],
   "source": [
    "np.mean(df[\"high-close\"])"
   ]
  }
 ],
 "metadata": {
  "kernelspec": {
   "display_name": "Python 3 (ipykernel)",
   "language": "python",
   "name": "python3"
  },
  "language_info": {
   "codemirror_mode": {
    "name": "ipython",
    "version": 3
   },
   "file_extension": ".py",
   "mimetype": "text/x-python",
   "name": "python",
   "nbconvert_exporter": "python",
   "pygments_lexer": "ipython3",
   "version": "3.8.10"
  }
 },
 "nbformat": 4,
 "nbformat_minor": 5
}
