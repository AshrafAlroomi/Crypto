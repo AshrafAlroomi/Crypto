{
 "cells": [
  {
   "cell_type": "code",
   "execution_count": 2,
   "id": "f7519a47-43c5-41f5-9307-26eecb3cdc53",
   "metadata": {},
   "outputs": [],
   "source": [
    "from stocklab.backtest.simulation import Simulation\n",
    "from data.binance import read_binance_data\n",
    "from strategies.patterns import PatternStrategy,PatternStrategyByhour\n",
    "from stocklab.portfolio.portfolio import Portfolio\n",
    "\n"
   ]
  },
  {
   "cell_type": "code",
   "execution_count": 8,
   "id": "ced67a4c-03e1-4770-9bfa-482713beb893",
   "metadata": {},
   "outputs": [
    {
     "name": "stdout",
     "output_type": "stream",
     "text": [
      "x\n"
     ]
    }
   ],
   "source": [
    "coins = [\"BAT\", \"ONE\", \"NEO\", \"TRX\"]\n",
    "portfolio = Portfolio()\n",
    "dates = []\n",
    "for coin in coins:\n",
    "    df = read_binance_data(coin)\n",
    "    dates = df[\"date\"].values\n",
    "    portfolio.add_symbol(coin, 1.0, df)\n",
    "\n",
    "strategy = PatternStrategyByhour(portfolio=portfolio)\n",
    "sim = Simulation(1000, strategy, (dates, \"date\"))\n"
   ]
  },
  {
   "cell_type": "code",
   "execution_count": 9,
   "id": "e1454174-89e1-4691-b3f7-88b6393d6ad3",
   "metadata": {},
   "outputs": [],
   "source": [
    "s = strategy.portfolio.symbols.SYMBOLS[0]"
   ]
  },
  {
   "cell_type": "code",
   "execution_count": 10,
   "id": "0023d02d-007d-4168-b94f-18a2f95832fd",
   "metadata": {},
   "outputs": [
    {
     "data": {
      "text/plain": [
       "0.06358431644691187"
      ]
     },
     "execution_count": 10,
     "metadata": {},
     "output_type": "execute_result"
    }
   ],
   "source": [
    "len(s.df[s.df[\"Buy\"] !=0])/len(s.df)"
   ]
  },
  {
   "cell_type": "code",
   "execution_count": null,
   "id": "d21190bb-da55-44e8-9eed-a72bdcaa2e1e",
   "metadata": {},
   "outputs": [],
   "source": [
    "\n",
    "while True:\n",
    "    if sim.execute:\n",
    "        profit = sim.get_json.get(\"profit\")\n",
    "        if profit:\n",
    "            print(profit)\n",
    "    else:\n",
    "        break\n",
    "strategy.score()"
   ]
  },
  {
   "cell_type": "code",
   "execution_count": 12,
   "id": "b82713b7-f3df-497b-9342-f06bdb40c202",
   "metadata": {},
   "outputs": [
    {
     "data": {
      "text/plain": [
       "7500.54912"
      ]
     },
     "execution_count": 12,
     "metadata": {},
     "output_type": "execute_result"
    }
   ],
   "source": [
    "sim.state.trades.all_profit"
   ]
  }
 ],
 "metadata": {
  "kernelspec": {
   "display_name": "Python 3 (ipykernel)",
   "language": "python",
   "name": "python3"
  },
  "language_info": {
   "codemirror_mode": {
    "name": "ipython",
    "version": 3
   },
   "file_extension": ".py",
   "mimetype": "text/x-python",
   "name": "python",
   "nbconvert_exporter": "python",
   "pygments_lexer": "ipython3",
   "version": "3.8.10"
  }
 },
 "nbformat": 4,
 "nbformat_minor": 5
}
